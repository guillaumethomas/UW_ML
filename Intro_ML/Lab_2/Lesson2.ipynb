{
 "cells": [
  {
   "cell_type": "markdown",
   "metadata": {},
   "source": [
    "## <h1>Lesson 2. Regression analysis: How Much Is Your Car Worth?</h1>"
   ]
  },
  {
   "cell_type": "markdown",
   "metadata": {},
   "source": [
    "<img src=\"https://upload.wikimedia.org/wikipedia/commons/thumb/7/72/Kelley_Blue_Book_Vertical.JPG/152px-Kelley_Blue_Book_Vertical.JPG\" style=\"height:200px;\">\n",
    "  \n",
    "  <p>This exercise will use data collected from <a href=\"https://www.kbb.com/\">Kelly Blue Book</a> for 2005 for used General Motors (GM) cars. The overall goal is to predict the suggested retail price of the car (<a href=\"http://ww2.amstat.org/publications/jse/jse_data_archive.htm\">Kuiper (2008), JSE</a>).</p>\n",
    "\n",
    "<p>The following features are available for this dataset:</p>\n",
    "<ul>\n",
    "<li>Price: Suggested retail price of the used 2005 GM car</li>\n",
    "<li>Mileage: Car mileage</li>\n",
    "<li>Cylinder: Number of cylinders in the engine</li>\n",
    "<li>Doors: Number of doors</li>\n",
    "<li>Cruise: Does it have cruise control</li>\n",
    "<li>Sound: Does it have upgraded sound?</li>\n",
    "<li>Leather: Does it have leather seats?</li>\n",
    "<li>Make columns (indicator variables):\n",
    "    <ul>\n",
    "        <li>Buick</li>\n",
    "        <li>Cadillac</li>\n",
    "        <li>Chevy</li>\n",
    "        <li>Pontiac</li>\n",
    "        <li>Saab</li>\n",
    "        <li>...</li>\n",
    "    </ul>\n",
    "</li>\n",
    "<li>Body Type columns (indicator variables):\n",
    "    <ul>\n",
    "        <li>convertible</li>\n",
    "        <li>coupe</li>\n",
    "        <li>hatchback</li>\n",
    "        <li>sedan</li>\n",
    "        <li>...</li>\n",
    "    </ul>\n",
    "</li>\n",
    "</ul>\n"
   ]
  },
  {
   "cell_type": "code",
   "execution_count": 69,
   "metadata": {},
   "outputs": [
    {
     "data": {
      "text/html": [
       "<div>\n",
       "<style>\n",
       "    .dataframe thead tr:only-child th {\n",
       "        text-align: right;\n",
       "    }\n",
       "\n",
       "    .dataframe thead th {\n",
       "        text-align: left;\n",
       "    }\n",
       "\n",
       "    .dataframe tbody tr th {\n",
       "        vertical-align: top;\n",
       "    }\n",
       "</style>\n",
       "<table border=\"1\" class=\"dataframe\">\n",
       "  <thead>\n",
       "    <tr style=\"text-align: right;\">\n",
       "      <th></th>\n",
       "      <th>Price</th>\n",
       "      <th>Mileage</th>\n",
       "      <th>Cylinder</th>\n",
       "      <th>Doors</th>\n",
       "      <th>Cruise</th>\n",
       "      <th>Sound</th>\n",
       "      <th>Leather</th>\n",
       "      <th>Buick</th>\n",
       "      <th>Cadillac</th>\n",
       "      <th>Chevy</th>\n",
       "      <th>Pontiac</th>\n",
       "      <th>Saab</th>\n",
       "      <th>Saturn</th>\n",
       "      <th>convertible</th>\n",
       "      <th>coupe</th>\n",
       "      <th>hatchback</th>\n",
       "      <th>sedan</th>\n",
       "      <th>wagon</th>\n",
       "    </tr>\n",
       "  </thead>\n",
       "  <tbody>\n",
       "    <tr>\n",
       "      <th>0</th>\n",
       "      <td>22661.05</td>\n",
       "      <td>20105</td>\n",
       "      <td>6</td>\n",
       "      <td>4</td>\n",
       "      <td>1</td>\n",
       "      <td>0</td>\n",
       "      <td>0</td>\n",
       "      <td>1</td>\n",
       "      <td>0</td>\n",
       "      <td>0</td>\n",
       "      <td>0</td>\n",
       "      <td>0</td>\n",
       "      <td>0</td>\n",
       "      <td>0</td>\n",
       "      <td>0</td>\n",
       "      <td>0</td>\n",
       "      <td>1</td>\n",
       "      <td>0</td>\n",
       "    </tr>\n",
       "    <tr>\n",
       "      <th>1</th>\n",
       "      <td>21725.01</td>\n",
       "      <td>13457</td>\n",
       "      <td>6</td>\n",
       "      <td>2</td>\n",
       "      <td>1</td>\n",
       "      <td>1</td>\n",
       "      <td>0</td>\n",
       "      <td>0</td>\n",
       "      <td>0</td>\n",
       "      <td>1</td>\n",
       "      <td>0</td>\n",
       "      <td>0</td>\n",
       "      <td>0</td>\n",
       "      <td>0</td>\n",
       "      <td>1</td>\n",
       "      <td>0</td>\n",
       "      <td>0</td>\n",
       "      <td>0</td>\n",
       "    </tr>\n",
       "    <tr>\n",
       "      <th>2</th>\n",
       "      <td>29142.71</td>\n",
       "      <td>31655</td>\n",
       "      <td>4</td>\n",
       "      <td>2</td>\n",
       "      <td>1</td>\n",
       "      <td>1</td>\n",
       "      <td>1</td>\n",
       "      <td>0</td>\n",
       "      <td>0</td>\n",
       "      <td>0</td>\n",
       "      <td>0</td>\n",
       "      <td>1</td>\n",
       "      <td>0</td>\n",
       "      <td>1</td>\n",
       "      <td>0</td>\n",
       "      <td>0</td>\n",
       "      <td>0</td>\n",
       "      <td>0</td>\n",
       "    </tr>\n",
       "    <tr>\n",
       "      <th>3</th>\n",
       "      <td>30731.94</td>\n",
       "      <td>22479</td>\n",
       "      <td>4</td>\n",
       "      <td>2</td>\n",
       "      <td>1</td>\n",
       "      <td>0</td>\n",
       "      <td>0</td>\n",
       "      <td>0</td>\n",
       "      <td>0</td>\n",
       "      <td>0</td>\n",
       "      <td>0</td>\n",
       "      <td>1</td>\n",
       "      <td>0</td>\n",
       "      <td>1</td>\n",
       "      <td>0</td>\n",
       "      <td>0</td>\n",
       "      <td>0</td>\n",
       "      <td>0</td>\n",
       "    </tr>\n",
       "    <tr>\n",
       "      <th>4</th>\n",
       "      <td>33358.77</td>\n",
       "      <td>17590</td>\n",
       "      <td>4</td>\n",
       "      <td>2</td>\n",
       "      <td>1</td>\n",
       "      <td>1</td>\n",
       "      <td>1</td>\n",
       "      <td>0</td>\n",
       "      <td>0</td>\n",
       "      <td>0</td>\n",
       "      <td>0</td>\n",
       "      <td>1</td>\n",
       "      <td>0</td>\n",
       "      <td>1</td>\n",
       "      <td>0</td>\n",
       "      <td>0</td>\n",
       "      <td>0</td>\n",
       "      <td>0</td>\n",
       "    </tr>\n",
       "  </tbody>\n",
       "</table>\n",
       "</div>"
      ],
      "text/plain": [
       "      Price  Mileage  Cylinder  Doors  Cruise  Sound  Leather  Buick  \\\n",
       "0  22661.05    20105         6      4       1      0        0      1   \n",
       "1  21725.01    13457         6      2       1      1        0      0   \n",
       "2  29142.71    31655         4      2       1      1        1      0   \n",
       "3  30731.94    22479         4      2       1      0        0      0   \n",
       "4  33358.77    17590         4      2       1      1        1      0   \n",
       "\n",
       "   Cadillac  Chevy  Pontiac  Saab  Saturn  convertible  coupe  hatchback  \\\n",
       "0         0      0        0     0       0            0      0          0   \n",
       "1         0      1        0     0       0            0      1          0   \n",
       "2         0      0        0     1       0            1      0          0   \n",
       "3         0      0        0     1       0            1      0          0   \n",
       "4         0      0        0     1       0            1      0          0   \n",
       "\n",
       "   sedan  wagon  \n",
       "0      1      0  \n",
       "1      0      0  \n",
       "2      0      0  \n",
       "3      0      0  \n",
       "4      0      0  "
      ]
     },
     "execution_count": 69,
     "metadata": {},
     "output_type": "execute_result"
    }
   ],
   "source": [
    "import pandas as pd\n",
    "import numpy as np\n",
    "\n",
    "cars = pd.read_csv('cars.csv')\n",
    "cars.head()\n"
   ]
  },
  {
   "cell_type": "code",
   "execution_count": 70,
   "metadata": {},
   "outputs": [
    {
     "name": "stdout",
     "output_type": "stream",
     "text": [
      "<class 'pandas.core.frame.DataFrame'>\n",
      "RangeIndex: 804 entries, 0 to 803\n",
      "Data columns (total 18 columns):\n",
      "Price          804 non-null float64\n",
      "Mileage        804 non-null int64\n",
      "Cylinder       804 non-null int64\n",
      "Doors          804 non-null int64\n",
      "Cruise         804 non-null int64\n",
      "Sound          804 non-null int64\n",
      "Leather        804 non-null int64\n",
      "Buick          804 non-null int64\n",
      "Cadillac       804 non-null int64\n",
      "Chevy          804 non-null int64\n",
      "Pontiac        804 non-null int64\n",
      "Saab           804 non-null int64\n",
      "Saturn         804 non-null int64\n",
      "convertible    804 non-null int64\n",
      "coupe          804 non-null int64\n",
      "hatchback      804 non-null int64\n",
      "sedan          804 non-null int64\n",
      "wagon          804 non-null int64\n",
      "dtypes: float64(1), int64(17)\n",
      "memory usage: 113.1 KB\n",
      "RangeIndex(start=0, stop=804, step=1)\n",
      "Index(['Price', 'Mileage', 'Cylinder', 'Doors', 'Cruise', 'Sound', 'Leather',\n",
      "       'Buick', 'Cadillac', 'Chevy', 'Pontiac', 'Saab', 'Saturn',\n",
      "       'convertible', 'coupe', 'hatchback', 'sedan', 'wagon'],\n",
      "      dtype='object')\n"
     ]
    }
   ],
   "source": [
    "cars.info()\n",
    "\n",
    "print(cars.index)\n",
    "print(cars.columns)"
   ]
  },
  {
   "cell_type": "markdown",
   "metadata": {},
   "source": [
    "<h3>Q.1. Plot Price vs. Mileage. From the plot, does it seem like cars with more mileage are worth less?</h3>"
   ]
  },
  {
   "cell_type": "code",
   "execution_count": 71,
   "metadata": {},
   "outputs": [
    {
     "data": {
      "image/png": "[encoded data removed]",
      "text/plain": [
       "<matplotlib.figure.Figure at 0x7fd12e24c160>"
      ]
     },
     "metadata": {},
     "output_type": "display_data"
    }
   ],
   "source": [
    "# Put the command (or commands) here that would give answer to the above question.\n",
    "import matplotlib.pyplot as plt\n",
    "\n",
    "mileage = cars.loc[:,'Mileage'].tolist()\n",
    "price = cars.loc[:,'Price'].tolist()\n",
    "\n",
    "plt.xlabel('Mileage')\n",
    "plt.ylabel('Price')\n",
    "plt.grid(True)\n",
    "plt.scatter(mileage, price,label='Price vs. Mileage')\n",
    "\n",
    "plt.show()\n"
   ]
  },
  {
   "cell_type": "markdown",
   "metadata": {},
   "source": [
    "<h3>Q.2. Develop a simple linear regression model, relating price with mileage only. Show summary statistics for the model.</h3> "
   ]
  },
  {
   "cell_type": "code",
   "execution_count": 72,
   "metadata": {},
   "outputs": [
    {
     "name": "stdout",
     "output_type": "stream",
     "text": [
      "0.01516944123548969\n"
     ]
    },
    {
     "data": {
      "image/png": "[encoded data removed]",
      "text/plain": [
       "<matplotlib.figure.Figure at 0x7fd12dfc4b38>"
      ]
     },
     "metadata": {},
     "output_type": "display_data"
    },
    {
     "name": "stdout",
     "output_type": "stream",
     "text": [
      "The equation is Y = -0.1415172954501876x + 24065.678557702002\n",
      "Mean squared error: 105275335.74\n",
      "Variance score: 0.03\n"
     ]
    }
   ],
   "source": [
    "# Linear regression model:\n",
    "import matplotlib.pyplot as plt\n",
    "from numpy import reshape\n",
    "from sklearn.model_selection import train_test_split\n",
    "from sklearn import linear_model\n",
    "from sklearn.metrics import mean_squared_error, r2_score\n",
    "\n",
    "# https://docs.scipy.org/doc/numpy-1.15.1/reference/generated/numpy.reshape.html\n",
    "# from list to array\n",
    "mileage_array = reshape(mileage,(-1, 1))\n",
    "price_array = reshape(price,(-1, 1))\n",
    "\n",
    "# Split the data into training/testing sets\n",
    "mileage_train, mileage_test, price_train, price_test = train_test_split(mileage_array, price_array, test_size=0.3)\n",
    "\n",
    "# Create linear regression object\n",
    "regr = linear_model.LinearRegression()\n",
    "\n",
    "# Train the model using the training sets\n",
    "regr.fit(mileage_train, price_train)\n",
    "\n",
    "# The mean squared error\n",
    "score = regr.score(mileage_train, price_train)\n",
    "print(score)\n",
    "\n",
    "# Make predictions using the testing set\n",
    "price_pred = regr.predict(mileage_test)\n",
    "\n",
    "# Plot outputs\n",
    "plt.xlabel('Mileage')\n",
    "plt.ylabel('Price')\n",
    "plt.grid(True)\n",
    "plt.xticks(())\n",
    "plt.yticks(())\n",
    "plt.scatter(mileage_test, price_test,  color='black')\n",
    "plt.plot(mileage_test, price_pred, color='blue', linewidth=3)\n",
    "plt.show()\n",
    "\n",
    "\n",
    "# Show summary statistics for the model:\n",
    "# The coefficients\n",
    "coeffs =  [regr.coef_[0][0], regr.intercept_[0]]\n",
    "print('The equation is Y = {}x + {}'.format(*coeffs))\n",
    "\n",
    "\n",
    "# The mean squared error\n",
    "print(\"Mean squared error: %.2f\"% mean_squared_error(price_test, price_pred))\n",
    "# Explained variance score: 1 is perfect prediction\n",
    "print('Variance score: %.2f' % r2_score(price_test, price_pred))\n",
    "\n",
    "def reg_eq(x):\n",
    "    return coeffs[0]*x + coeffs[1]\n"
   ]
  },
  {
   "cell_type": "code",
   "execution_count": 73,
   "metadata": {},
   "outputs": [
    {
     "name": "stdout",
     "output_type": "stream",
     "text": [
      "Accuracy -1.62 (+/- 6.0)\n"
     ]
    },
    {
     "data": {
      "image/png": "[encoded data removed]",
      "text/plain": [
       "<matplotlib.figure.Figure at 0x7fd12df61e10>"
      ]
     },
     "metadata": {},
     "output_type": "display_data"
    }
   ],
   "source": [
    "# cross_val_predict returns an array of the same size as `y` where each entry\n",
    "# is a prediction obtained by cross validation:\n",
    "from sklearn.model_selection import cross_val_predict, cross_val_score\n",
    "predicted = cross_val_predict(regr, mileage_array, price_array, cv=10)\n",
    "\n",
    "scores = cross_val_score(regr, mileage_array, price_array, cv=10)\n",
    "# print(scores)\n",
    "print('Accuracy {} (+/- {})'.format(round(scores.mean(),2), round(scores.std() * 2),3))\n",
    "\n",
    "fig, ax = plt.subplots()\n",
    "ax.scatter(price_array, predicted, edgecolors=(0, 0, 0))\n",
    "ax.plot([price_array.min(), price_array.max()], [price_array.min(), price_array.max()], 'k--', lw=4)\n",
    "ax.set_xlabel('Measured')\n",
    "ax.set_ylabel('Predicted')\n",
    "plt.show()"
   ]
  },
  {
   "cell_type": "markdown",
   "metadata": {},
   "source": [
    "<h3>Q.3. What happens to price when there is one more mile on the car?</h3>"
   ]
  },
  {
   "cell_type": "code",
   "execution_count": 74,
   "metadata": {},
   "outputs": [
    {
     "name": "stdout",
     "output_type": "stream",
     "text": [
      "when there is more mile on the price change with a delta equal to the slope $-0.1415172954501876\n"
     ]
    }
   ],
   "source": [
    "# Command:\n",
    "print('when there is more mile on the price change with a delta equal to the slope ${}'.format(coeffs[0]))\n"
   ]
  },
  {
   "cell_type": "markdown",
   "metadata": {},
   "source": [
    "<h3>Q.4. What is the expected value of a car with 0 miles according to your model?</h3>"
   ]
  },
  {
   "cell_type": "code",
   "execution_count": 75,
   "metadata": {},
   "outputs": [
    {
     "name": "stdout",
     "output_type": "stream",
     "text": [
      "The price for a car with 0 mile is $24065.678557702002\n"
     ]
    }
   ],
   "source": [
    "# Single command\n",
    "print('The price for a car with 0 mile is ${}'.format(coeffs[1]))"
   ]
  },
  {
   "cell_type": "markdown",
   "metadata": {},
   "source": [
    "<h3>Q.5. Plot residuals of the model vs. fitted values. Are there any problems that you see with the model?</h3>"
   ]
  },
  {
   "cell_type": "code",
   "execution_count": 76,
   "metadata": {},
   "outputs": [
    {
     "data": {
      "image/png": "[encoded data removed]",
      "text/plain": [
       "<matplotlib.figure.Figure at 0x7fd12df6add8>"
      ]
     },
     "metadata": {},
     "output_type": "display_data"
    },
    {
     "name": "stdout",
     "output_type": "stream",
     "text": [
      "The absolute residual value has the same order of magnitude as the predicted value, hence the model is\n",
      " not precise\n"
     ]
    }
   ],
   "source": [
    "# Plot residuals\n",
    "residual = [test - predicted for test, predicted in zip(price_test, price_pred)]\n",
    "\n",
    "plt.xlabel('Fitted value ')\n",
    "plt.ylabel('Residual')\n",
    "plt.grid(True)\n",
    "plt.scatter(price_pred, residual,  color='blue')\n",
    "plt.show()\n",
    "\n",
    "\n",
    "# if work on my own virtual env (I have added the yellowbrick library)\n",
    "# is there a way to install a library into this cloud env?\n",
    "'''\n",
    "from yellowbrick.regressor import ResidualsPlot\n",
    "\n",
    "visualizer = ResidualsPlot(regr, hist=False)\n",
    "visualizer.fit(mileage_train, price_train)  # Fit the training data to the model\n",
    "visualizer.score(mileage_test, price_test)  # Evaluate the model on the test data\n",
    "visualizer.poof()                 # Draw/show/poof the data\n",
    "'''\n",
    "\n",
    "# Explain whether there are any problems (1-2 sentence)\n",
    "#\n",
    "print('The absolute residual value has the same order '\n",
    "      'of magnitude as the predicted value, hence the model is\\n not precise')"
   ]
  },
  {
   "cell_type": "markdown",
   "metadata": {},
   "source": [
    "<h3>Q.6. Develop a model that predicts the Price from Mileage, Cylinder, Doors, Cruise, Sound, Leather data. Is this model more accurate - explain why (1-2 sentence). </h3>"
   ]
  },
  {
   "cell_type": "code",
   "execution_count": 77,
   "metadata": {},
   "outputs": [
    {
     "name": "stdout",
     "output_type": "stream",
     "text": [
      "0.462480458023657\n",
      "The coefficient for Mileage is -0.11144676784164012\n",
      "The coefficient for Cylinder is 3372.735355615868\n",
      "The coefficient for Doors is -1516.6604189104403\n",
      "The coefficient for Cruise is 5575.85678236877\n",
      "The coefficient for Sound is -2332.4907522125204\n",
      "The coefficient for Leather is 3303.124669809853\n",
      "Mean squared error: 59801072.30\n",
      "Variance score: 0.39\n",
      "Accuracy -0.55 (+/- 3.0)\n"
     ]
    },
    {
     "data": {
      "image/png": "[encoded data removed]",
      "text/plain": [
       "<matplotlib.figure.Figure at 0x7fd12e24d358>"
      ]
     },
     "metadata": {},
     "output_type": "display_data"
    },
    {
     "name": "stdout",
     "output_type": "stream",
     "text": [
      "This model is more accurate\n"
     ]
    }
   ],
   "source": [
    "# Commands:\n",
    "y = cars.loc[:,'Price']\n",
    "X = cars.loc[:,['Mileage','Cylinder', 'Doors', 'Cruise', 'Sound', 'Leather']]\n",
    "X_train, X_test, y_train, y_test = train_test_split(X, y, test_size=0.3)\n",
    "regr = linear_model.LinearRegression()\n",
    "regr.fit(X_train, y_train)\n",
    "\n",
    "# The mean squared error\n",
    "score = regr.score(X_train, y_train)\n",
    "print(score)\n",
    "\n",
    "# Make predictions using the testing set\n",
    "y_pred = regr.predict(X_test)\n",
    "\n",
    "d_coeff_f = dict()\n",
    "for idx, col_name in enumerate(X_train.columns):\n",
    "    print(\"The coefficient for {} is {}\".format(col_name, regr.coef_[idx]))\n",
    "    d_coeff_f[col_name] = regr.coef_[idx]\n",
    "d_coeff_f['intercept'] = regr.intercept_ \n",
    "    \n",
    "# The mean squared error\n",
    "print(\"Mean squared error: %.2f\"% mean_squared_error(y_test, y_pred))\n",
    "# Explained variance score: 1 is perfect prediction\n",
    "print('Variance score: %.2f' % r2_score(y_test, y_pred))\n",
    "\n",
    "# cross_val_predict returns an array of the same size as `y` where each entry\n",
    "# is a prediction obtained by cross validation:\n",
    "predicted = cross_val_predict(regr, X, y, cv=10)\n",
    "scores = cross_val_score(regr, X, y, cv=10)\n",
    "# print(scores)\n",
    "print('Accuracy {} (+/- {})'.format(round(scores.mean(),2), round(scores.std() * 2),3))\n",
    "\n",
    "# Plot residuals\n",
    "residual = [test - predicted for test, predicted in zip(y_test, y_pred)]\n",
    "\n",
    "plt.xlabel('Fitted value ')\n",
    "plt.ylabel('Residual')\n",
    "plt.grid(True)\n",
    "plt.scatter(price_pred, residual,  color='blue')\n",
    "plt.show()\n",
    "\n",
    "\n",
    "'''\n",
    "# Plot residuals\n",
    "from yellowbrick.regressor import ResidualsPlot\n",
    "\n",
    "visualizer = ResidualsPlot(regr, hist=False)\n",
    "visualizer.fit(mileage_train, price_train)  # Fit the training data to the model\n",
    "visualizer.score(mileage_test, price_test)  # Evaluate the model on the test data\n",
    "visualizer.poof()                 # Draw/show/poof the data\n",
    "'''\n",
    "\n",
    "# Explain whether there are any problems (1-2 sentence)\n",
    "print('This model is more accurate')\n"
   ]
  },
  {
   "cell_type": "markdown",
   "metadata": {},
   "source": [
    "<h3>Q.7. Are any of the features in the above model highly colinear to the point where they impact the model quality?</h3>"
   ]
  },
  {
   "cell_type": "code",
   "execution_count": 78,
   "metadata": {},
   "outputs": [
    {
     "name": "stdout",
     "output_type": "stream",
     "text": [
      "          Mileage  Cylinder     Doors    Cruise     Sound   Leather\n",
      "Mileage       NaN  0.029461  0.016944  0.025037  0.026146  0.001005\n",
      "Cylinder      NaN       NaN  0.002206  0.354285  0.089704  0.075520\n",
      "Doors         NaN       NaN       NaN  0.047674  0.062530  0.061969\n",
      "Cruise        NaN       NaN       NaN       NaN  0.091730  0.070573\n",
      "Sound         NaN       NaN       NaN       NaN       NaN  0.165444\n",
      "Leather       NaN       NaN       NaN       NaN       NaN       NaN\n",
      "with a criteria of 0.25 correlation, there is these parameters ['Cruise'] to drop\n",
      "As a conclusion, none of the parameters have to be dropped\n"
     ]
    }
   ],
   "source": [
    "# Command(s):\n",
    "# Comment on the result\n",
    "col_factor = 0.25\n",
    "# Abs of the corr matrix\n",
    "corr_matrix = X.corr().abs()\n",
    "\n",
    "# Select upper triangle of correlation matrix\n",
    "upper = corr_matrix.where(np.triu(np.ones(corr_matrix.shape), k=1).astype(np.bool))\n",
    "\n",
    "print(upper)\n",
    "\n",
    "# Find index of feature columns with correlation greater than col_factor\n",
    "to_drop = [column for column in upper.columns if any(upper[column] > col_factor)]\n",
    "\n",
    "print('with a criteria of {} correlation, there is these parameters {} to drop'.format(col_factor, to_drop))\n",
    "print('As a conclusion, none of the parameters have to be dropped')\n"
   ]
  },
  {
   "cell_type": "code",
   "execution_count": 79,
   "metadata": {},
   "outputs": [
    {
     "name": "stdout",
     "output_type": "stream",
     "text": [
      "0.3676783093147022\n",
      "The coefficient for Mileage is -0.12160179019445881\n",
      "The coefficient for Cylinder is 3801.542033550811\n",
      "The coefficient for Doors is -1521.51910046794\n",
      "The coefficient for Sound is -1726.265158524128\n",
      "The coefficient for Leather is 2489.2236658108577\n",
      "Mean squared error: 59856899.97\n",
      "Variance score: 0.41\n",
      "Accuracy -0.62 (+/- 3.0)\n"
     ]
    },
    {
     "data": {
      "image/png": "[encoded data removed]",
      "text/plain": [
       "<matplotlib.figure.Figure at 0x7fd12e12b470>"
      ]
     },
     "metadata": {},
     "output_type": "display_data"
    },
    {
     "name": "stdout",
     "output_type": "stream",
     "text": [
      "          Mileage  Cylinder     Doors     Sound   Leather\n",
      "Mileage       NaN  0.029461  0.016944  0.026146  0.001005\n",
      "Cylinder      NaN       NaN  0.002206  0.089704  0.075520\n",
      "Doors         NaN       NaN       NaN  0.062530  0.061969\n",
      "Sound         NaN       NaN       NaN       NaN  0.165444\n",
      "Leather       NaN       NaN       NaN       NaN       NaN\n",
      "with a criteria of 0.25 correlation, there is these parameters [] to drop\n",
      "As a conclusion, none of the parameters have to be dropped\n"
     ]
    }
   ],
   "source": [
    "# Commands:\n",
    "y = cars.loc[:,'Price']\n",
    "X = cars.loc[:,['Mileage','Cylinder', 'Doors', 'Sound', 'Leather']]\n",
    "X_train, X_test, y_train, y_test = train_test_split(X, y, test_size=0.3)\n",
    "regr = linear_model.LinearRegression()\n",
    "regr.fit(X_train, y_train)\n",
    "\n",
    "# The mean squared error\n",
    "score = regr.score(X_train, y_train)\n",
    "print(score)\n",
    "\n",
    "# Make predictions using the testing set\n",
    "y_pred = regr.predict(X_test)\n",
    "\n",
    "d_coeff = dict()\n",
    "for idx, col_name in enumerate(X_train.columns):\n",
    "    print(\"The coefficient for {} is {}\".format(col_name, regr.coef_[idx]))\n",
    "    d_coeff[col_name] = regr.coef_[idx]\n",
    "d_coeff['intercept'] = regr.intercept_ \n",
    "    \n",
    "# The mean squared error\n",
    "print(\"Mean squared error: %.2f\"% mean_squared_error(y_test, y_pred))\n",
    "# Explained variance score: 1 is perfect prediction\n",
    "print('Variance score: %.2f' % r2_score(y_test, y_pred))\n",
    "\n",
    "# cross_val_predict returns an array of the same size as `y` where each entry\n",
    "# is a prediction obtained by cross validation:\n",
    "predicted = cross_val_predict(regr, X, y, cv=10)\n",
    "scores = cross_val_score(regr, X, y, cv=10)\n",
    "# print(scores)\n",
    "print('Accuracy {} (+/- {})'.format(round(scores.mean(),2), round(scores.std() * 2),3))\n",
    "\n",
    "# Plot residuals\n",
    "residual = [test - predicted for test, predicted in zip(y_test, y_pred)]\n",
    "\n",
    "plt.xlabel('Fitted value ')\n",
    "plt.ylabel('Residual')\n",
    "plt.grid(True)\n",
    "plt.scatter(price_pred, residual,  color='blue')\n",
    "plt.show()\n",
    "\n",
    "col_factor = 0.25\n",
    "# Abs of the corr matrix\n",
    "corr_matrix = X.corr().abs()\n",
    "\n",
    "# Select upper triangle of correlation matrix\n",
    "upper = corr_matrix.where(np.triu(np.ones(corr_matrix.shape), k=1).astype(np.bool))\n",
    "\n",
    "print(upper)\n",
    "\n",
    "# Find index of feature columns with correlation greater than col_factor\n",
    "to_drop = [column for column in upper.columns if any(upper[column] > col_factor)]\n",
    "\n",
    "print('with a criteria of {} correlation, there is these parameters {} to drop'.format(col_factor, to_drop))\n",
    "print('As a conclusion, none of the parameters have to be dropped')\n",
    "\n"
   ]
  },
  {
   "cell_type": "markdown",
   "metadata": {},
   "source": [
    "<h3>Q.8. What is the expected price for the Chevy sedan described in variable 'chevy', shown below?</h3>"
   ]
  },
  {
   "cell_type": "code",
   "execution_count": 80,
   "metadata": {},
   "outputs": [
    {
     "name": "stdout",
     "output_type": "stream",
     "text": [
      "17980.510522939243\n"
     ]
    }
   ],
   "source": [
    "def price(**kwargs):\n",
    "    price = d_coeff['intercept']\n",
    "    for key, value in kwargs.items():\n",
    "        if key in d_coeff.keys():\n",
    "            price += d_coeff[key] * value\n",
    "    return price\n",
    "    \n",
    "    \n",
    "chevy = {\"Mileage\":30000, \"Cylinder\":4, \"Doors\":2, \"Cruise\":1, \"Sound\":1, \"Leather\":1}\n",
    "# Commands that estimate the price of 'chevy' using the model with 6 predictors\n",
    "\n",
    "print(price(**chevy))\n"
   ]
  },
  {
   "cell_type": "markdown",
   "metadata": {},
   "source": [
    "<h3>Q.9. What is the expected price for the Chevy mentioned above if you include all features in the prediction? Can you comment on any problems you encounter when doing this prediction?</h3>"
   ]
  },
  {
   "cell_type": "code",
   "execution_count": 82,
   "metadata": {},
   "outputs": [
    {
     "name": "stdout",
     "output_type": "stream",
     "text": [
      "19635.150799175222\n",
      "This prediction is overstating the price of the car because of the colinerarity of the luxury features\n"
     ]
    }
   ],
   "source": [
    "# Commands\n",
    "def price(**kwargs):\n",
    "    price = d_coeff_f['intercept']\n",
    "    for key, value in kwargs.items():\n",
    "        if key in d_coeff_f.keys():\n",
    "            price += d_coeff_f[key] * value\n",
    "    return price\n",
    "    \n",
    "    \n",
    "chevy = {\"Mileage\":30000, \"Cylinder\":4, \"Doors\":2, \"Cruise\":1, \"Sound\":1, \"Leather\":1}\n",
    "# Commands that estimate the price of 'chevy' using the model with 6 predictors\n",
    "\n",
    "print(price(**chevy))\n",
    "\n",
    "\n",
    "\n",
    "# Comments on problems\n",
    "#\n",
    "print('This prediction is overstating the price of the car because of the colinerarity of the luxury features')"
   ]
  },
  {
   "cell_type": "code",
   "execution_count": null,
   "metadata": {
    "collapsed": true
   },
   "outputs": [],
   "source": []
  }
 ],
 "metadata": {
  "kernelspec": {
   "display_name": "Python 3",
   "language": "python",
   "name": "python3"
  },
  "language_info": {
   "codemirror_mode": {
    "name": "ipython",
    "version": 3
   },
   "file_extension": ".py",
   "mimetype": "text/x-python",
   "name": "python",
   "nbconvert_exporter": "python",
   "pygments_lexer": "ipython3",
   "version": "3.7.0"
  }
 },
 "nbformat": 4,
 "nbformat_minor": 2
}
