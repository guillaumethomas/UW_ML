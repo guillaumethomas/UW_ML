{
 "cells": [
  {
   "cell_type": "markdown",
   "metadata": {},
   "source": [
    "<h1>Lesson 3. Classification: Credit worthiness from German bank</h1>"
   ]
  },
  {
   "cell_type": "markdown",
   "metadata": {},
   "source": [
    "<img src=\"https://upload.wikimedia.org/wikipedia/commons/8/8e/Flag_map_of_Germany.svg\" style=\"height:200px;\">\n",
    "  \n",
    "  <p>In this exercise you will predict credit worthiness of custmers of a German bank (<a href=\"https://archive.ics.uci.edu/ml/datasets/statlog+(german+credit+data)\">provided by Hans Hofmann from Univeristy of Hamburg</a>). The data we will be working with here is a reduced version of the full dataset.</p>\n",
    "<p>The following features are available for the 1000-row dataset:</p>\n",
    "<ul>\n",
    "<li>Class: Credit worthiness (what you are trying to predict)</li>\n",
    "<li>Duration: Duration of the credit (in months) </li>\n",
    "<li>Amount: Amount of money asked for (in Deutche Marks (DM))</li>\n",
    "<li>InstallmentRatePercentage: Installment rate in percentage of disposable income </li>\n",
    "<li>ResidenceDuration: Number of years at current residence</li>\n",
    "<li>Age: Person's age</li>\n",
    "<li>NumberExistingCredits: Number of credit accounts</li>\n",
    "<li>NumberPeopleMaintenance: Number of people being liable to provide maintenance for the credit</li>\n",
    "<li>Telephone: Is there a phone number associated with the customer name?  </li>\n",
    "<li>ForeignWorker: Is the person a foreign worker?</li>\n",
    "<li>CheckingAccountStatus: Amount of money in the checking account (in DM)<ul>\n",
    "<li>CheckingAccountStatus.lt.0</li>\n",
    "<li>CheckingAccountStatus.0.to.200</li>\n",
    "<li>CheckingAccountStatus.gt.200</li>\n",
    "</ul></li>\n",
    "<li>CreditHistory: Past credit history<ul>\n",
    "<li>CreditHistory.ThisBank.AllPaid</li>\n",
    "<li>CreditHistory.PaidDuly</li>\n",
    "<li>CreditHistory.Delay</li>\n",
    "<li>CreditHistory.Critical</li>\n",
    "</ul></li>\n",
    "</ul>\n",
    "\n",
    "<p>This dataset is available in <a href=\"http://caret.r-forge.r-project.org/\">'caret'</a> library. Let's load it and see how it looks:</p>"
   ]
  },
  {
   "cell_type": "code",
   "execution_count": 45,
   "metadata": {
    "collapsed": true
   },
   "outputs": [],
   "source": [
    "import pandas as pd\n",
    "\n",
    "# loading the training and test dataset\n",
    "credit_train = pd.read_csv('credit_train.csv')\n",
    "credit_test = pd.read_csv('credit_test.csv')\n",
    "\n",
    "credit_train.head()\n",
    "\n",
    "\n",
    "X_train = credit_train.loc[:, credit_train.columns != 'Class']\n",
    "X_test =  credit_test.loc[:, credit_train.columns != 'Class']"
   ]
  },
  {
   "cell_type": "markdown",
   "metadata": {},
   "source": [
    "<h3>Q.1. Show a boxplot of the age of the person asking for the credit vs. their credit worthiness for the training data. Is age a good predictor of the credit worthiness?</h3>"
   ]
  },
  {
   "cell_type": "code",
   "execution_count": 46,
   "metadata": {},
   "outputs": [
    {
     "data": {
      "image/png": "[encoded data removed]",
      "text/plain": [
       "<matplotlib.figure.Figure at 0x7f35ff4c7e80>"
      ]
     },
     "metadata": {},
     "output_type": "display_data"
    },
    {
     "name": "stdout",
     "output_type": "stream",
     "text": [
      "Age is not a good predictor as we cannot any meaningful difference between Bad and Good columns\n"
     ]
    }
   ],
   "source": [
    "# Put the command (or commands) here that would give an answer to the above question.\n",
    "import matplotlib.pyplot as plt\n",
    "\n",
    "plt.title('age of the person asking for the credit vs. their credit worthiness ')\n",
    "plt.xlabel('credit worthiness')\n",
    "plt.ylabel('age of the person asking for the credit')\n",
    "#plt.legend(loc='upper left')\n",
    "plt.grid(True)\n",
    "\n",
    "worthiness = credit_train.loc[:,'Class'].tolist()\n",
    "age = credit_train.loc[:,'Age'].tolist()\n",
    "\n",
    "# Add label and color\n",
    "plt.scatter(worthiness, age)\n",
    "plt.show()\n",
    "\n",
    "\n",
    "# Comment whether age is a good predictor\n",
    "# \n",
    "print(\"Age is not a good predictor as we cannot any meaningful difference between Bad and Good columns\")"
   ]
  },
  {
   "cell_type": "markdown",
   "metadata": {},
   "source": [
    "<h3>Q.2. Can you generate a table that shows CreditHistory.Critical vs. Credit Worthiness for the training data. Can you comment whether person with critical credit history is more credit worthy?</h3> "
   ]
  },
  {
   "cell_type": "code",
   "execution_count": 47,
   "metadata": {},
   "outputs": [
    {
     "name": "stdout",
     "output_type": "stream",
     "text": [
      "defaultdict(<class 'int'>, {('Bad', 0): 208, ('Bad', 1): 38, ('Good', 1): 189, ('Good', 0): 373})\n",
      "[[189, 373], [38, 208]]\n"
     ]
    },
    {
     "data": {
      "image/png": "[encoded data removed]",
      "text/plain": [
       "<matplotlib.figure.Figure at 0x7f35ff4c56d8>"
      ]
     },
     "metadata": {},
     "output_type": "display_data"
    },
    {
     "name": "stdout",
     "output_type": "stream",
     "text": [
      "When there is Credit history, we can see that a person is more credit worthy\n"
     ]
    }
   ],
   "source": [
    "import matplotlib.pyplot as plt\n",
    "\n",
    "# Command:\n",
    "from collections import defaultdict \n",
    "critical = credit_train.loc[:,'CreditHistory.Critical'].tolist()\n",
    "data = [(i,j) for i,j in zip(worthiness, critical)]\n",
    "\n",
    "d = defaultdict(int)\n",
    "for k in data:\n",
    "    d[k] +=1\n",
    "print(d)\n",
    "lst_table = [[d[('Good', 1)], d[('Good',0)]], [d[('Bad', 1)],d[('Bad', 0)]]]\n",
    "print(lst_table)\n",
    "columns = ['Critical = 1', 'Critical = 0']\n",
    "rows = ['Good', 'Bad']\n",
    "\n",
    "fig, ax = plt.subplots()\n",
    "# One sentence summary:\n",
    "ax.axis('off')\n",
    "ax.axis('tight')\n",
    "ax.table(cellText = lst_table, rowLabels=rows, colLabels=columns)\n",
    "fig.tight_layout()\n",
    "plt.show()\n",
    "\n",
    "# \n",
    "print(\"When there is Credit history, we can see that a person is more credit worthy\")"
   ]
  },
  {
   "cell_type": "markdown",
   "metadata": {},
   "source": [
    "<h3>Q.3. Binarize the y output for e.g. 0 = 'bad' credit; 1 = 'good' credit. </h3>"
   ]
  },
  {
   "cell_type": "code",
   "execution_count": 48,
   "metadata": {
    "collapsed": true
   },
   "outputs": [],
   "source": [
    "worthiness_bin = [0 if i=='Bad' else 1 for i in worthiness]\n"
   ]
  },
  {
   "cell_type": "markdown",
   "metadata": {},
   "source": [
    "<h3>Q.4. Generate a logistic regression model that uses the data. Provide a summary of the model. </h3>"
   ]
  },
  {
   "cell_type": "code",
   "execution_count": 49,
   "metadata": {},
   "outputs": [
    {
     "name": "stdout",
     "output_type": "stream",
     "text": [
      "[-2.40087017e-02 -5.76641600e-05 -1.80534102e-01  6.39207236e-02\n",
      "  1.50416643e-02  4.27203206e-02  1.41426578e-01 -2.79077326e-01\n",
      " -2.65778765e-01 -1.85237712e+00 -1.13973406e+00 -6.73867616e-01\n",
      "  2.20205068e-02  9.74863158e-01  7.41633915e-01  1.50197783e+00]\n",
      "1.5501458377476558\n",
      "0.7747524752475248\n"
     ]
    }
   ],
   "source": [
    "# http://scikit-learn.org/stable/modules/generated/sklearn.linear_model.LogisticRegression.html\n",
    "from sklearn.linear_model import LogisticRegression\n",
    "from numpy import reshape\n",
    "from sklearn.metrics import mean_squared_error, r2_score\n",
    "\n",
    "\n",
    "\n",
    "\n",
    "# X_train, y_train = reshape(critical,(-1, 1)),  worthiness_bin\n",
    "y_train = worthiness_bin\n",
    "# print('{} {}'.format(len(X), len(y)))\n",
    "\n",
    "LogReg = LogisticRegression()\n",
    "LogReg.fit(X_train, y_train)\n",
    "coeffs =  [LogReg.coef_[0][0], LogReg.intercept_[0]]\n",
    "# print('The equation is y = {}x + {}'.format(*coeffs))\n",
    "print(LogReg.coef_[0])\n",
    "print(LogReg.intercept_[0])\n",
    "score = LogReg.score(X_train, y_train)\n",
    "print(score)\n"
   ]
  },
  {
   "cell_type": "markdown",
   "metadata": {},
   "source": [
    "<h3>Q.5. Using the developed model, predict the values in credit_test and use it to output a confusion matrix.</h3>"
   ]
  },
  {
   "cell_type": "code",
   "execution_count": 50,
   "metadata": {},
   "outputs": [
    {
     "name": "stdout",
     "output_type": "stream",
     "text": [
      "Mean squared error: 0.31\n",
      "Variance score: -0.52\n",
      "[[ 18  36]\n",
      " [ 23 115]]\n"
     ]
    }
   ],
   "source": [
    "# http://scikit-learn.org/stable/modules/generated/sklearn.metrics.confusion_matrix.html\n",
    "# http://scikit-learn.org/stable/auto_examples/model_selection/plot_confusion_matrix.html#sphx-glr-auto-examples-model-selection-plot-confusion-matrix-py\n",
    "from sklearn.metrics import confusion_matrix\n",
    "from sklearn.metrics import mean_squared_error, r2_score\n",
    "\n",
    "y_test = [0 if i=='Bad' else 1 for i in credit_test.loc[:,'Class'].tolist()]\n",
    "critical = credit_test.loc[:,'CreditHistory.Critical'].tolist()\n",
    "y_pred = LogReg.predict(X_test)\n",
    "y_prob = LogReg.predict_proba(X_test) \n",
    "\n",
    "\n",
    "# The mean squared error\n",
    "print(\"Mean squared error: %.2f\"% mean_squared_error(y_test, y_pred))\n",
    "# Explained variance score: 1 is perfect prediction\n",
    "print('Variance score: %.2f' % r2_score(y_test, y_pred))\n",
    "\n",
    "conf_mat = confusion_matrix(y_test, y_pred)\n",
    "print(conf_mat)\n"
   ]
  },
  {
   "cell_type": "markdown",
   "metadata": {},
   "source": [
    "<h3>Q.6. What is the accuracy of the model on the test data?</h3>"
   ]
  },
  {
   "cell_type": "code",
   "execution_count": 51,
   "metadata": {},
   "outputs": [
    {
     "name": "stdout",
     "output_type": "stream",
     "text": [
      "0.69\n"
     ]
    }
   ],
   "source": [
    "# Command that outputs acccuracy\n",
    "acc = round((conf_mat[0][0] + conf_mat[1][1]) / (sum(conf_mat[0]) + sum(conf_mat[1])), 2)\n",
    "print(acc)"
   ]
  },
  {
   "cell_type": "markdown",
   "metadata": {},
   "source": [
    "<h3>Q.7. Generate the ROC curve.</h3>"
   ]
  },
  {
   "cell_type": "code",
   "execution_count": 52,
   "metadata": {},
   "outputs": [
    {
     "name": "stdout",
     "output_type": "stream",
     "text": [
      "fpr [0.         0.66666667 1.        ]\n",
      " tpr [0.         0.83333333 1.        ]\n",
      " thresholds [2 1 0]\n"
     ]
    },
    {
     "data": {
      "image/png": "[encoded data removed]",
      "text/plain": [
       "<matplotlib.figure.Figure at 0x7f35ff5763c8>"
      ]
     },
     "metadata": {},
     "output_type": "display_data"
    }
   ],
   "source": [
    "# http://scikit-learn.org/stable/auto_examples/ensemble/plot_feature_transformation.html#sphx-glr-auto-examples-ensemble-plot-feature-transformation-py\n",
    "    \n",
    "from sklearn.metrics import roc_curve\n",
    "fpr, tpr, thresholds = roc_curve(y_test, y_pred)\n",
    "print('fpr {}\\n tpr {}\\n thresholds {}'.format(fpr, tpr, thresholds ))\n",
    "\n",
    "plt.figure()\n",
    "lw = 2\n",
    "plt.xlabel('False Positive Rate')\n",
    "plt.ylabel('True Positive Rate')\n",
    "plt.plot(fpr, tpr, color='darkorange',lw=lw, label='ROC curve')\n",
    "plt.plot([0, 1], [0, 1], color='navy', lw=lw, linestyle='--')\n",
    "plt.legend(loc=\"lower right\")\n",
    "plt.show()"
   ]
  },
  {
   "cell_type": "markdown",
   "metadata": {},
   "source": [
    "<h3>Q.8. What is the ROC AUC of the model on the test data?</h3>"
   ]
  },
  {
   "cell_type": "code",
   "execution_count": 53,
   "metadata": {},
   "outputs": [
    {
     "name": "stdout",
     "output_type": "stream",
     "text": [
      "0.5833333333333335\n"
     ]
    }
   ],
   "source": [
    "# Command(s):\n",
    "# http://scikit-learn.org/stable/modules/generated/sklearn.metrics.auc.html\n",
    "from sklearn.metrics import auc\n",
    "ROC_AUC = auc(fpr, tpr)\n",
    "print(ROC_AUC)"
   ]
  },
  {
   "cell_type": "markdown",
   "metadata": {},
   "source": [
    "<h3>Q.9. Calculate LDA model on credit_train.</h3>"
   ]
  },
  {
   "cell_type": "code",
   "execution_count": 54,
   "metadata": {},
   "outputs": [
    {
     "name": "stdout",
     "output_type": "stream",
     "text": [
      "[[ 18  36]\n",
      " [ 24 114]]\n"
     ]
    }
   ],
   "source": [
    "# Linear Discriminant Analysis (LDA).\n",
    "# http://scikit-learn.org/0.16/modules/generated/sklearn.lda.LDA.html\n",
    "from sklearn.discriminant_analysis import LinearDiscriminantAnalysis as LDA\n",
    "LinearDA = LDA()\n",
    "LinearDA.fit(X_train, y_train)\n",
    "\n",
    "y_pred = LinearDA.predict(X_test)\n",
    "conf_mat = confusion_matrix(y_test, y_pred)\n",
    "print(conf_mat)"
   ]
  },
  {
   "cell_type": "markdown",
   "metadata": {},
   "source": [
    "<h3>Q.10. What is the accuracy of the new model?</h3>"
   ]
  },
  {
   "cell_type": "code",
   "execution_count": 55,
   "metadata": {},
   "outputs": [
    {
     "name": "stdout",
     "output_type": "stream",
     "text": [
      "0.69\n"
     ]
    }
   ],
   "source": [
    "# Command that outputs acccuracy\n",
    "acc = round((conf_mat[0][0] + conf_mat[1][1]) / (sum(conf_mat[0]) + sum(conf_mat[1])), 2)\n",
    "print(acc)\n"
   ]
  }
 ],
 "metadata": {
  "kernelspec": {
   "display_name": "Python 3",
   "language": "python",
   "name": "python3"
  },
  "language_info": {
   "codemirror_mode": {
    "name": "ipython",
    "version": 3
   },
   "file_extension": ".py",
   "mimetype": "text/x-python",
   "name": "python",
   "nbconvert_exporter": "python",
   "pygments_lexer": "ipython3",
   "version": "3.7.0"
  }
 },
 "nbformat": 4,
 "nbformat_minor": 2
}
