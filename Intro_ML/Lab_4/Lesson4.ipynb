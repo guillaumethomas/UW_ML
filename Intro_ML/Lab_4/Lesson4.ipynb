{
 "cells": [
  {
   "cell_type": "markdown",
   "metadata": {},
   "source": [
    "<h1>Lesson 4. Model selection: Car mileage</h1>"
   ]
  },
  {
   "cell_type": "markdown",
   "metadata": {},
   "source": [
    "<img src=\"https://upload.wikimedia.org/wikipedia/commons/thumb/7/77/%22real_time_display%22_of_mileage_%28%22mpg%22%29_on_Honda_Insight.png/320px-%22real_time_display%22_of_mileage_%28%22mpg%22%29_on_Honda_Insight.png\" style=\"height:200px;\">\n",
    "  \n",
    "<p>In this exercise you will predict car mileage based on its properties. The data is taken from <a href=\"http://www-bcf.usc.edu/~gareth/ISL/\">ISLR website</a>, but requires few transformations to make it usable for model building. These transformations will include: missing value imputation and normalizing the variables. </p>\n",
    "\n",
    "<p>This dataset contains 397 car entries with following features:</p>\n",
    "<ul>\n",
    "<li>mpg miles per gallon (what we are trying to predict)</li>\n",
    "<li>cylinders Number of cylinders between 4 and 8</li>\n",
    "<li>displacement Engine displacement (cu. inches)</li>\n",
    "<li>horsepower Engine horsepower</li>\n",
    "<li>weight Vehicle weight (lbs.)</li>\n",
    "<li>acceleration Time to accelerate from 0 to 60 mph (sec.)</li>\n",
    "<li>year Model year (modulo 100)</li>\n",
    "<li>origin Origin of car (1. American, 2. European, 3. Japanese)</li>\n",
    "<li>name Vehicle name</ul>\n",
    "</ul>\n"
   ]
  },
  {
   "cell_type": "code",
   "execution_count": 1,
   "metadata": {},
   "outputs": [
    {
     "name": "stdout",
     "output_type": "stream",
     "text": [
      "<class 'pandas.core.frame.DataFrame'>\n",
      "RangeIndex: 397 entries, 0 to 396\n",
      "Data columns (total 8 columns):\n",
      "mpg             397 non-null float64\n",
      "cylinders       397 non-null int64\n",
      "displacement    397 non-null float64\n",
      "horsepower      392 non-null float64\n",
      "weight          397 non-null int64\n",
      "acceleration    397 non-null float64\n",
      "year            397 non-null int64\n",
      "origin          397 non-null int64\n",
      "dtypes: float64(4), int64(4)\n",
      "memory usage: 24.9 KB\n",
      "None\n"
     ]
    },
    {
     "data": {
      "text/html": [
       "<div>\n",
       "<style scoped>\n",
       "    .dataframe tbody tr th:only-of-type {\n",
       "        vertical-align: middle;\n",
       "    }\n",
       "\n",
       "    .dataframe tbody tr th {\n",
       "        vertical-align: top;\n",
       "    }\n",
       "\n",
       "    .dataframe thead th {\n",
       "        text-align: right;\n",
       "    }\n",
       "</style>\n",
       "<table border=\"1\" class=\"dataframe\">\n",
       "  <thead>\n",
       "    <tr style=\"text-align: right;\">\n",
       "      <th></th>\n",
       "      <th>mpg</th>\n",
       "      <th>cylinders</th>\n",
       "      <th>displacement</th>\n",
       "      <th>horsepower</th>\n",
       "      <th>weight</th>\n",
       "      <th>acceleration</th>\n",
       "      <th>year</th>\n",
       "      <th>origin</th>\n",
       "    </tr>\n",
       "  </thead>\n",
       "  <tbody>\n",
       "    <tr>\n",
       "      <th>0</th>\n",
       "      <td>18.0</td>\n",
       "      <td>8</td>\n",
       "      <td>307.0</td>\n",
       "      <td>130.0</td>\n",
       "      <td>3504</td>\n",
       "      <td>12.0</td>\n",
       "      <td>70</td>\n",
       "      <td>1</td>\n",
       "    </tr>\n",
       "    <tr>\n",
       "      <th>1</th>\n",
       "      <td>15.0</td>\n",
       "      <td>8</td>\n",
       "      <td>350.0</td>\n",
       "      <td>165.0</td>\n",
       "      <td>3693</td>\n",
       "      <td>11.5</td>\n",
       "      <td>70</td>\n",
       "      <td>1</td>\n",
       "    </tr>\n",
       "    <tr>\n",
       "      <th>2</th>\n",
       "      <td>18.0</td>\n",
       "      <td>8</td>\n",
       "      <td>318.0</td>\n",
       "      <td>150.0</td>\n",
       "      <td>3436</td>\n",
       "      <td>11.0</td>\n",
       "      <td>70</td>\n",
       "      <td>1</td>\n",
       "    </tr>\n",
       "    <tr>\n",
       "      <th>3</th>\n",
       "      <td>16.0</td>\n",
       "      <td>8</td>\n",
       "      <td>304.0</td>\n",
       "      <td>150.0</td>\n",
       "      <td>3433</td>\n",
       "      <td>12.0</td>\n",
       "      <td>70</td>\n",
       "      <td>1</td>\n",
       "    </tr>\n",
       "    <tr>\n",
       "      <th>4</th>\n",
       "      <td>17.0</td>\n",
       "      <td>8</td>\n",
       "      <td>302.0</td>\n",
       "      <td>140.0</td>\n",
       "      <td>3449</td>\n",
       "      <td>10.5</td>\n",
       "      <td>70</td>\n",
       "      <td>1</td>\n",
       "    </tr>\n",
       "  </tbody>\n",
       "</table>\n",
       "</div>"
      ],
      "text/plain": [
       "    mpg  cylinders  displacement  horsepower  weight  acceleration  year  \\\n",
       "0  18.0          8         307.0       130.0    3504          12.0    70   \n",
       "1  15.0          8         350.0       165.0    3693          11.5    70   \n",
       "2  18.0          8         318.0       150.0    3436          11.0    70   \n",
       "3  16.0          8         304.0       150.0    3433          12.0    70   \n",
       "4  17.0          8         302.0       140.0    3449          10.5    70   \n",
       "\n",
       "   origin  \n",
       "0       1  \n",
       "1       1  \n",
       "2       1  \n",
       "3       1  \n",
       "4       1  "
      ]
     },
     "execution_count": 1,
     "metadata": {},
     "output_type": "execute_result"
    }
   ],
   "source": [
    "import pandas as pd\n",
    "import numpy as np\n",
    "# Load the data\n",
    "auto = pd.read_csv('Auto.csv')\n",
    "print(auto.info())\n",
    "auto.head()"
   ]
  },
  {
   "cell_type": "markdown",
   "metadata": {},
   "source": [
    "<h3>Q.1. Write a command that will calculate the number of missing values in this dataset</h3>"
   ]
  },
  {
   "cell_type": "code",
   "execution_count": 2,
   "metadata": {},
   "outputs": [
    {
     "name": "stdout",
     "output_type": "stream",
     "text": [
      "mpg             0\n",
      "cylinders       0\n",
      "displacement    0\n",
      "horsepower      5\n",
      "weight          0\n",
      "acceleration    0\n",
      "year            0\n",
      "origin          0\n",
      "dtype: int64\n"
     ]
    }
   ],
   "source": [
    "# Command(s)\n",
    "nb_null = auto.isnull().sum()\n",
    "print(nb_null)"
   ]
  },
  {
   "cell_type": "markdown",
   "metadata": {},
   "source": [
    "<h3>Q.2. Write a command that will only show the rows with missing values. Can you comment on why the values might be missing (e.g. excessive prevalence of specific feature)?</h3>"
   ]
  },
  {
   "cell_type": "code",
   "execution_count": 3,
   "metadata": {},
   "outputs": [
    {
     "name": "stdout",
     "output_type": "stream",
     "text": [
      "      mpg  cylinders  displacement  horsepower  weight  acceleration  year  \\\n",
      "32   25.0          4          98.0         NaN    2046          19.0    71   \n",
      "126  21.0          6         200.0         NaN    2875          17.0    74   \n",
      "330  40.9          4          85.0         NaN    1835          17.3    80   \n",
      "336  23.6          4         140.0         NaN    2905          14.3    80   \n",
      "354  34.5          4         100.0         NaN    2320          15.8    81   \n",
      "\n",
      "     origin  \n",
      "32        1  \n",
      "126       1  \n",
      "330       2  \n",
      "336       1  \n",
      "354       2  \n",
      "\n",
      "\n",
      "32    NaN\n",
      "126   NaN\n",
      "330   NaN\n",
      "336   NaN\n",
      "354   NaN\n",
      "Name: horsepower, dtype: float64\n",
      "nan\n",
      "<class 'numpy.float64'>\n",
      "\n",
      "The only data missing are all in the horsepower column, maybe the data where not needed for homlogation or \n",
      " were not disclose by the manufacturer for competition reason\n"
     ]
    }
   ],
   "source": [
    "# Command:\n",
    "null_data = auto[auto.isnull().any(axis=1)]\n",
    "print(null_data)\n",
    "print(\"\\n\")\n",
    "a = null_data.loc[:,\"horsepower\"]\n",
    "print(a)\n",
    "print(a[32])\n",
    "print(type(a[32]))\n",
    "# Comment (One - two sentence)\n",
    "print(\"\\nThe only data missing are all in the horsepower column, maybe the data where not needed for homlogation or \\n were not disclose by the manufacturer for competition reason\")"
   ]
  },
  {
   "cell_type": "markdown",
   "metadata": {},
   "source": [
    "<h3>Q.3. Impute the missing values using median for the column. Given answer to Q.2, is this a good approach to fix the missing value problem?</h3>"
   ]
  },
  {
   "cell_type": "code",
   "execution_count": 4,
   "metadata": {},
   "outputs": [
    {
     "name": "stdout",
     "output_type": "stream",
     "text": [
      "93.5\n",
      "mpg             0\n",
      "cylinders       0\n",
      "displacement    0\n",
      "horsepower      0\n",
      "weight          0\n",
      "acceleration    0\n",
      "year            0\n",
      "origin          0\n",
      "dtype: int64\n",
      "As only the horsepower value is missing, this is an acceptable measure, a more refined would be to do an average horsepower value per # nb of cylinders to refine the values \n"
     ]
    }
   ],
   "source": [
    "# Command(s):\n",
    "median_hp = auto.loc[:,\"horsepower\"].median()\n",
    "print(median_hp)\n",
    "# Comment (one sentence):\n",
    "# https://pandas.pydata.org/pandas-docs/stable/generated/pandas.DataFrame.fillna.html\n",
    "auto.fillna(median_hp, inplace=True)\n",
    "nb_null = auto.isnull().sum()\n",
    "print(nb_null)\n",
    "# \n",
    "print(\"As only the horsepower value is missing, this is an acceptable measure, a more refined would be to do an average horsepower value per # nb of cylinders to refine the values \")"
   ]
  },
  {
   "cell_type": "markdown",
   "metadata": {},
   "source": [
    "<h3>Q.4. Develop a model that predicts mpg using all the available features in the data.frame. Summarize it and comment on its quality. </h3>"
   ]
  },
  {
   "cell_type": "code",
   "execution_count": 5,
   "metadata": {},
   "outputs": [
    {
     "name": "stdout",
     "output_type": "stream",
     "text": [
      "0.8122207731306976\n",
      "Mean squared error: 7.71\n",
      "Variance score: 0.85\n",
      "The score is acceptable\n"
     ]
    }
   ],
   "source": [
    "# Develop the model \n",
    "from sklearn.model_selection import train_test_split\n",
    "from sklearn import linear_model\n",
    "from sklearn.metrics import mean_squared_error, r2_score\n",
    "\n",
    "X = auto.loc[:, auto.columns != 'mpg']\n",
    "y = auto.loc[:, \"mpg\"]\n",
    "X_train, X_test, y_train, y_test = train_test_split(X, y)\n",
    "regr = linear_model.LinearRegression()\n",
    "regr.fit(X_train, y_train)\n",
    "score = regr.score(X_train, y_train)\n",
    "print(score)\n",
    "\n",
    "y_pred = regr.predict(X_test)\n",
    "\n",
    "# The mean squared error\n",
    "print(\"Mean squared error: %.2f\"% mean_squared_error(y_test, y_pred))\n",
    "# Explained variance score: 1 is perfect prediction\n",
    "print('Variance score: %.2f' % r2_score(y_test, y_pred))\n",
    "\n",
    "# Comment on its quality \n",
    "print(\"The score is acceptable\")"
   ]
  },
  {
   "cell_type": "markdown",
   "metadata": {},
   "source": [
    "<h3>Q.5. Show histogram of engine displacement to reveal its non-normal distribution. Normalize this feature by either applying Box-Cox transformation or any normalization tool from Scikit-learn. Plot this new feature to see whether it is now normally distributed.</h3>"
   ]
  },
  {
   "cell_type": "code",
   "execution_count": 6,
   "metadata": {},
   "outputs": [
    {
     "data": {
      "image/png": "[encoded data removed]",
      "text/plain": [
       "<matplotlib.figure.Figure at 0x7f7e1514bef0>"
      ]
     },
     "metadata": {},
     "output_type": "display_data"
    },
    {
     "data": {
      "image/png": "[encoded data removed]",
      "text/plain": [
       "<matplotlib.figure.Figure at 0x7f7e12b8cf28>"
      ]
     },
     "metadata": {},
     "output_type": "display_data"
    },
    {
     "name": "stdout",
     "output_type": "stream",
     "text": [
      "<class 'numpy.ndarray'>\n",
      "True\n"
     ]
    }
   ],
   "source": [
    "from matplotlib import pyplot as plt\n",
    "# Histogram of engine displacement\n",
    "eng_disp = auto.loc[:, \"displacement\"]\n",
    "bins_n = 50\n",
    "n, bins, patches = plt.hist(eng_disp, bins_n, density=True, facecolor='g', alpha=0.75)\n",
    "plt.title('Histogram of Displacement')\n",
    "plt.xlabel('Displacement')\n",
    "plt.ylabel('Probability')\n",
    "plt.grid(True)\n",
    "plt.show()\n",
    "# print(bins)\n",
    "\n",
    "# Plot histogram of this new feature to reveal normal-like distribution\n",
    "from scipy import stats\n",
    "from numpy import reshape\n",
    "\n",
    "eng_disp_t, _ = stats.boxcox(eng_disp)\n",
    "n, bins, patches = plt.hist(eng_disp_t, bins_n, density=True, facecolor='g', alpha=0.75)\n",
    "plt.title('Histogram of Box Cox - Displacement')\n",
    "plt.xlabel('Box Cox - Displacement')\n",
    "plt.ylabel('Probability')\n",
    "plt.grid(True)\n",
    "plt.show()\n",
    "# print(bins)\n",
    "\n",
    "print(type(eng_disp_t))\n",
    "print(len(eng_disp_t) == len(eng_disp))\n"
   ]
  },
  {
   "cell_type": "markdown",
   "metadata": {},
   "source": [
    "<h3>Q.7. Recalculate the model to predict mpg with the new feature and comment on its performance in comparison to the original model.</h3>"
   ]
  },
  {
   "cell_type": "code",
   "execution_count": 7,
   "metadata": {},
   "outputs": [
    {
     "name": "stdout",
     "output_type": "stream",
     "text": [
      "<class 'pandas.core.frame.DataFrame'>\n",
      "RangeIndex: 397 entries, 0 to 396\n",
      "Data columns (total 8 columns):\n",
      "mpg                 397 non-null float64\n",
      "cylinders           397 non-null int64\n",
      "horsepower          397 non-null float64\n",
      "weight              397 non-null int64\n",
      "acceleration        397 non-null float64\n",
      "year                397 non-null int64\n",
      "origin              397 non-null int64\n",
      "displacement_cox    397 non-null float64\n",
      "dtypes: float64(4), int64(4)\n",
      "memory usage: 24.9 KB\n",
      "None\n",
      "0.8231061183739132\n",
      "Mean squared error: 8.87\n",
      "Variance score: 0.84\n",
      "<class 'pandas.core.frame.DataFrame'>\n",
      "Performance is a 1% better\n"
     ]
    }
   ],
   "source": [
    "# Calculate then new model\n",
    "auto = auto.loc[:, auto.columns != \"displacement\"].assign(displacement_cox=eng_disp_t)\n",
    "print(auto.info())\n",
    "auto.head()\n",
    "\n",
    "X = auto.loc[:, auto.columns != 'mpg']\n",
    "y = auto.loc[:, \"mpg\"]\n",
    "X_train, X_test, y_train, y_test = train_test_split(X, y)\n",
    "regr = linear_model.LinearRegression()\n",
    "regr.fit(X_train, y_train)\n",
    "score = regr.score(X_train, y_train)\n",
    "print(score)\n",
    "\n",
    "y_pred = regr.predict(X_test)\n",
    "\n",
    "# The mean squared error\n",
    "print(\"Mean squared error: %.2f\"% mean_squared_error(y_test, y_pred))\n",
    "# Explained variance score: 1 is perfect prediction\n",
    "print('Variance score: %.2f' % r2_score(y_test, y_pred))\n",
    "\n",
    "print(type(auto))\n",
    "\n",
    "\n",
    "# Comment on its performance\n",
    "print(\"Performance is a 1% better\")"
   ]
  },
  {
   "cell_type": "markdown",
   "metadata": {},
   "source": [
    "<h3>Q.8. What is the mean and standard deviation for all the features?</h3>"
   ]
  },
  {
   "cell_type": "code",
   "execution_count": 8,
   "metadata": {},
   "outputs": [
    {
     "name": "stdout",
     "output_type": "stream",
     "text": [
      "\n",
      "Mean\n",
      "\n",
      "mpg                   23.515869\n",
      "cylinders              5.458438\n",
      "horsepower           104.331234\n",
      "weight              2970.261965\n",
      "acceleration          15.555668\n",
      "year                  75.994962\n",
      "origin                 1.574307\n",
      "displacement_cox       2.579582\n",
      "dtype: float64\n",
      "\n",
      "Standard Deviation\n",
      "\n",
      "mpg                   7.825804\n",
      "cylinders             1.701577\n",
      "horsepower           38.266994\n",
      "weight              847.904119\n",
      "acceleration          2.749995\n",
      "year                  3.690005\n",
      "origin                0.802549\n",
      "displacement_cox      0.110132\n",
      "dtype: float64\n"
     ]
    }
   ],
   "source": [
    "print(\"\\nMean\\n\")\n",
    "mean = auto.mean()\n",
    "print(mean)\n",
    "print(\"\\nStandard Deviation\\n\")\n",
    "std = auto.std()\n",
    "print(std)"
   ]
  },
  {
   "cell_type": "markdown",
   "metadata": {},
   "source": [
    "<h3>Q.9. Center all the features, so that their mean is 0 and scale them, so that their standard deviation is 1. Recalculate the model, comment on its performance.</h3>"
   ]
  },
  {
   "cell_type": "code",
   "execution_count": 9,
   "metadata": {},
   "outputs": [
    {
     "name": "stdout",
     "output_type": "stream",
     "text": [
      "\n",
      "\n",
      "<class 'pandas.core.frame.DataFrame'>\n",
      "RangeIndex: 397 entries, 0 to 396\n",
      "Data columns (total 8 columns):\n",
      "mpg                 397 non-null float64\n",
      "cylinders           397 non-null float64\n",
      "horsepower          397 non-null float64\n",
      "weight              397 non-null float64\n",
      "acceleration        397 non-null float64\n",
      "year                397 non-null float64\n",
      "origin              397 non-null float64\n",
      "displacement_cox    397 non-null float64\n",
      "dtypes: float64(8)\n",
      "memory usage: 24.9 KB\n",
      "None\n",
      "\n",
      "\n",
      "        mpg  cylinders  horsepower    weight  acceleration      year  \\\n",
      "0 -0.705720   1.495535    0.671627  0.630274     -1.294604 -1.626699   \n",
      "1 -1.089551   1.495535    1.587408  0.853457     -1.476652 -1.626699   \n",
      "2 -0.705720   1.495535    1.194930  0.549975     -1.658700 -1.626699   \n",
      "3 -0.961608   1.495535    1.194930  0.546432     -1.294604 -1.626699   \n",
      "4 -0.833664   1.495535    0.933279  0.565326     -1.840747 -1.626699   \n",
      "\n",
      "     origin  displacement_cox  \n",
      "0 -0.716507          1.127898  \n",
      "1 -0.716507          1.330866  \n",
      "2 -0.716507          1.183207  \n",
      "3 -0.716507          1.112363  \n",
      "4 -0.716507          1.101895  \n",
      "\n",
      "Mean\n",
      "\n",
      "mpg                 1.652750e-16\n",
      "cylinders          -7.645717e-16\n",
      "horsepower          2.295952e-16\n",
      "weight              1.510127e-17\n",
      "acceleration       -2.377052e-16\n",
      "year                1.039191e-15\n",
      "origin             -8.221803e-17\n",
      "displacement_cox    1.348767e-15\n",
      "dtype: float64\n",
      "\n",
      "Standard Deviation\n",
      "\n",
      "mpg                 1.001262\n",
      "cylinders           1.001262\n",
      "horsepower          1.001262\n",
      "weight              1.001262\n",
      "acceleration        1.001262\n",
      "year                1.001262\n",
      "origin              1.001262\n",
      "displacement_cox    1.001262\n",
      "dtype: float64\n",
      "\n",
      "\n",
      "0.8347417535756334\n",
      "\n",
      "Mean squared error: 0.21\n",
      "\n",
      "Variance score: 0.81\n"
     ]
    },
    {
     "name": "stderr",
     "output_type": "stream",
     "text": [
      "/usr/local/lib/python3.5/dist-packages/ipykernel_launcher.py:3: DataConversionWarning: Data with input dtype int64, float64 were all converted to float64 by the scale function.\n",
      "  This is separate from the ipykernel package so we can avoid doing imports until\n"
     ]
    }
   ],
   "source": [
    "# Center and scale\n",
    "from sklearn.preprocessing import scale\n",
    "auto.loc[:,:] = scale(auto)\n",
    "print('\\n')\n",
    "print(auto.info())\n",
    "print('\\n')\n",
    "print(auto.head())\n",
    "\n",
    "\n",
    "\n",
    "print(\"\\nMean\\n\")\n",
    "mean = auto.mean()\n",
    "print(mean)\n",
    "print(\"\\nStandard Deviation\\n\")\n",
    "std = auto.std()\n",
    "print(std)\n",
    "\n",
    "# Recalculate the model\n",
    "\n",
    "\n",
    "\n",
    "X = auto.loc[:, auto.columns != 'mpg']\n",
    "y = auto.loc[:, \"mpg\"]\n",
    "X_train, X_test, y_train, y_test = train_test_split(X, y)\n",
    "regr = linear_model.LinearRegression()\n",
    "regr.fit(X_train, y_train)\n",
    "score = regr.score(X_train, y_train)\n",
    "print('\\n')\n",
    "print(score)\n",
    "\n",
    "y_pred = regr.predict(X_test)\n",
    "\n",
    "# The mean squared error\n",
    "print(\"\\nMean squared error: %.2f\"% mean_squared_error(y_test, y_pred))\n",
    "# Explained variance score: 1 is perfect prediction\n",
    "print('\\nVariance score: %.2f' % r2_score(y_test, y_pred))\n",
    "\n",
    "\n",
    "# Comment on its performance\n",
    "print(\"Model has a score of ~ 1% better\")"
   ]
  }
 ],
 "metadata": {
  "kernelspec": {
   "display_name": "Python 3",
   "language": "python",
   "name": "python3"
  },
  "language_info": {
   "codemirror_mode": {
    "name": "ipython",
    "version": 3
   },
   "file_extension": ".py",
   "mimetype": "text/x-python",
   "name": "python",
   "nbconvert_exporter": "python",
   "pygments_lexer": "ipython3",
   "version": "3.5.2"
  }
 },
 "nbformat": 4,
 "nbformat_minor": 2
}
