{
 "cells": [
  {
   "cell_type": "markdown",
   "metadata": {},
   "source": [
    "# ML210-Assignment 6: Resampling Methods"
   ]
  },
  {
   "cell_type": "markdown",
   "metadata": {
    "collapsed": true
   },
   "source": [
    "Dataset needed:\n",
    "UCI Airfoil Self-Noise Data Set  (https://archive.ics.uci.edu/ml/datasets/diabetes)\n"
   ]
  },
  {
   "cell_type": "code",
   "execution_count": 1,
   "metadata": {},
   "outputs": [
    {
     "name": "stdout",
     "output_type": "stream",
     "text": [
      "<class 'pandas.core.frame.DataFrame'>\n",
      "RangeIndex: 768 entries, 0 to 767\n",
      "Data columns (total 9 columns):\n",
      "Pregnancies                 768 non-null int64\n",
      "Glucose                     768 non-null int64\n",
      "BloodPressure               768 non-null int64\n",
      "SkinThickness               768 non-null int64\n",
      "Insulin                     768 non-null int64\n",
      "BMI                         768 non-null float64\n",
      "DiabetesPedigreeFunction    768 non-null float64\n",
      "Age                         768 non-null int64\n",
      "Outcome                     768 non-null int64\n",
      "dtypes: float64(2), int64(7)\n",
      "memory usage: 54.1 KB\n",
      "None\n"
     ]
    },
    {
     "data": {
      "text/html": [
       "<div>\n",
       "<style scoped>\n",
       "    .dataframe tbody tr th:only-of-type {\n",
       "        vertical-align: middle;\n",
       "    }\n",
       "\n",
       "    .dataframe tbody tr th {\n",
       "        vertical-align: top;\n",
       "    }\n",
       "\n",
       "    .dataframe thead th {\n",
       "        text-align: right;\n",
       "    }\n",
       "</style>\n",
       "<table border=\"1\" class=\"dataframe\">\n",
       "  <thead>\n",
       "    <tr style=\"text-align: right;\">\n",
       "      <th></th>\n",
       "      <th>Pregnancies</th>\n",
       "      <th>Glucose</th>\n",
       "      <th>BloodPressure</th>\n",
       "      <th>SkinThickness</th>\n",
       "      <th>Insulin</th>\n",
       "      <th>BMI</th>\n",
       "      <th>DiabetesPedigreeFunction</th>\n",
       "      <th>Age</th>\n",
       "      <th>Outcome</th>\n",
       "    </tr>\n",
       "  </thead>\n",
       "  <tbody>\n",
       "    <tr>\n",
       "      <th>0</th>\n",
       "      <td>6</td>\n",
       "      <td>148</td>\n",
       "      <td>72</td>\n",
       "      <td>35</td>\n",
       "      <td>0</td>\n",
       "      <td>33.6</td>\n",
       "      <td>0.627</td>\n",
       "      <td>50</td>\n",
       "      <td>1</td>\n",
       "    </tr>\n",
       "    <tr>\n",
       "      <th>1</th>\n",
       "      <td>1</td>\n",
       "      <td>85</td>\n",
       "      <td>66</td>\n",
       "      <td>29</td>\n",
       "      <td>0</td>\n",
       "      <td>26.6</td>\n",
       "      <td>0.351</td>\n",
       "      <td>31</td>\n",
       "      <td>0</td>\n",
       "    </tr>\n",
       "    <tr>\n",
       "      <th>2</th>\n",
       "      <td>8</td>\n",
       "      <td>183</td>\n",
       "      <td>64</td>\n",
       "      <td>0</td>\n",
       "      <td>0</td>\n",
       "      <td>23.3</td>\n",
       "      <td>0.672</td>\n",
       "      <td>32</td>\n",
       "      <td>1</td>\n",
       "    </tr>\n",
       "    <tr>\n",
       "      <th>3</th>\n",
       "      <td>1</td>\n",
       "      <td>89</td>\n",
       "      <td>66</td>\n",
       "      <td>23</td>\n",
       "      <td>94</td>\n",
       "      <td>28.1</td>\n",
       "      <td>0.167</td>\n",
       "      <td>21</td>\n",
       "      <td>0</td>\n",
       "    </tr>\n",
       "    <tr>\n",
       "      <th>4</th>\n",
       "      <td>0</td>\n",
       "      <td>137</td>\n",
       "      <td>40</td>\n",
       "      <td>35</td>\n",
       "      <td>168</td>\n",
       "      <td>43.1</td>\n",
       "      <td>2.288</td>\n",
       "      <td>33</td>\n",
       "      <td>1</td>\n",
       "    </tr>\n",
       "  </tbody>\n",
       "</table>\n",
       "</div>"
      ],
      "text/plain": [
       "   Pregnancies  Glucose  BloodPressure  SkinThickness  Insulin   BMI  \\\n",
       "0            6      148             72             35        0  33.6   \n",
       "1            1       85             66             29        0  26.6   \n",
       "2            8      183             64              0        0  23.3   \n",
       "3            1       89             66             23       94  28.1   \n",
       "4            0      137             40             35      168  43.1   \n",
       "\n",
       "   DiabetesPedigreeFunction  Age  Outcome  \n",
       "0                     0.627   50        1  \n",
       "1                     0.351   31        0  \n",
       "2                     0.672   32        1  \n",
       "3                     0.167   21        0  \n",
       "4                     2.288   33        1  "
      ]
     },
     "execution_count": 1,
     "metadata": {},
     "output_type": "execute_result"
    }
   ],
   "source": [
    "import pandas as pd\n",
    "from sklearn.model_selection import train_test_split\n",
    "\n",
    "data = pd.read_csv('diabetes.csv')\n",
    "print(data.info())\n",
    "data.head()"
   ]
  },
  {
   "cell_type": "code",
   "execution_count": null,
   "metadata": {},
   "outputs": [],
   "source": []
  },
  {
   "cell_type": "markdown",
   "metadata": {},
   "source": [
    "#### Make an 80/20 train/test split."
   ]
  },
  {
   "cell_type": "code",
   "execution_count": 2,
   "metadata": {},
   "outputs": [],
   "source": [
    "from sklearn.model_selection import train_test_split\n",
    "\n",
    "X = data.iloc[:, :-1].values  \n",
    "y = data.iloc[:, -1].values \n",
    "\n",
    "X_train, X_test, y_train, y_test = train_test_split(X, y, test_size=0.2)"
   ]
  },
  {
   "cell_type": "markdown",
   "metadata": {},
   "source": [
    "#### Fit a logistic regression model on the training data."
   ]
  },
  {
   "cell_type": "code",
   "execution_count": 3,
   "metadata": {},
   "outputs": [
    {
     "name": "stdout",
     "output_type": "stream",
     "text": [
      "0.7402597402597403\n"
     ]
    }
   ],
   "source": [
    "from sklearn.linear_model import LogisticRegression\n",
    "# solver='liblinear'\n",
    "# solver='lbfgs\n",
    "model = LogisticRegression(solver='liblinear', max_iter=200)\n",
    "fitting = model.fit(X_train, y_train)\n",
    "score = fitting.score(X_test, y_test)\n",
    "print(score)\n",
    "#TODO"
   ]
  },
  {
   "cell_type": "markdown",
   "metadata": {},
   "source": [
    "#### Predict the test data."
   ]
  },
  {
   "cell_type": "code",
   "execution_count": 4,
   "metadata": {},
   "outputs": [
    {
     "name": "stdout",
     "output_type": "stream",
     "text": [
      "[-2.49669711  1.68231983  0.98309259 -0.26048527 -1.06442879 -1.9735712\n",
      "  0.92533842 -1.93658824 -1.56509915 -0.03990257 -0.97992995  1.2725815\n",
      "  0.50423553 -1.46762469 -2.06728911  0.88311167 -1.79543396  1.91257638\n",
      " -1.45239733 -1.50522596 -0.79196294 -1.73900599  0.22683181  0.88648246\n",
      " -1.67972039 -1.69499953  0.17023308 -0.56869756  1.25807201 -1.39437997\n",
      "  0.48260058  0.43488126 -0.4418502  -1.09266153  0.90128599 -2.05330183\n",
      "  0.13965601  0.46879739 -1.06286509  1.98830363 -1.67390105 -0.87373078\n",
      " -0.44516697 -1.37814763 -0.38460125 -0.26194061 -1.99450531 -2.83992735\n",
      " -1.60943349  0.17387682 -0.38775833 -1.02801194 -1.56320079 -2.24126265\n",
      "  1.27139964 -0.81962537 -1.92998594  0.48625113  2.34786748 -0.56121166\n",
      " -2.00049306 -0.53859846 -0.07359232  1.67579678  0.57593362  1.52302289\n",
      " -2.97413555 -0.67566397 -0.12794234 -1.64036235 -1.86213054  1.33811532\n",
      " -2.14973272 -0.57433243 -1.1844152  -0.41685001 -1.83225658 -2.52879519\n",
      " -3.43831616 -0.26499398 -1.48636404 -1.53094991 -1.78548572 -0.96766217\n",
      " -2.81058177 -1.971607   -1.06285147 -3.27735198  0.97418326 -1.50159704\n",
      " -0.89024572  1.05625774 -0.55625903 -2.23918204 -1.30225504 -3.87945423\n",
      " -1.60480429 -2.47973829 -1.86060444 -0.95757125 -0.64482219 -0.56609264\n",
      " -0.7039106  -0.85301156 -2.27665199  0.69317267  1.32876902  0.93803352\n",
      "  2.19105345 -1.56949782  0.49971989 -1.92026485 -0.44061348 -0.55780123\n",
      " -0.58684411 -0.93400513 -1.90287525 -1.70829324  0.95921122 -2.517359\n",
      " -1.5517145  -1.45044374  0.05427733 -2.25921335 -0.74286623 -0.33446553\n",
      "  0.09851488 -1.60107903 -0.39402117 -1.49553736 -1.36000652 -1.17434615\n",
      " -1.91010353  0.84620179 -2.20950022 -2.73912872  0.52004793 -1.38768834\n",
      " -2.52437974 -2.33097662 -2.35720506  0.33028395 -0.84804252 -1.01532255\n",
      " -1.25060785 -0.54913831 -0.28167211 -0.01542578  0.93901275 -4.94804391\n",
      " -2.35680773 -0.45991282  0.89653867  0.41445148]\n",
      "0.7402597402597403\n"
     ]
    }
   ],
   "source": [
    "#y_pred = #TODO\n",
    "from sklearn.metrics import  accuracy_score\n",
    "\n",
    "y_pred = model.predict(X_test)\n",
    "confidence_score = model.decision_function(X_test)\n",
    "print(confidence_score)\n",
    "lr_acc = accuracy_score(y_test, y_pred)\n",
    "\n",
    "print(lr_acc)"
   ]
  },
  {
   "cell_type": "markdown",
   "metadata": {},
   "source": [
    "#### Plot the ROC curve and compute the AUC score"
   ]
  },
  {
   "cell_type": "code",
   "execution_count": 5,
   "metadata": {},
   "outputs": [
    {
     "name": "stdout",
     "output_type": "stream",
     "text": [
      "Accuracy: 0.7402597402597403\n",
      "AUC: 0.6925302948091879\n"
     ]
    },
    {
     "data": {
      "image/png": "[encoded data removed]",
      "text/plain": [
       "<Figure size 432x288 with 1 Axes>"
      ]
     },
     "metadata": {
      "needs_background": "light"
     },
     "output_type": "display_data"
    },
    {
     "name": "stdout",
     "output_type": "stream",
     "text": [
      "Confusion matrix:\n",
      " [[85 12]\n",
      " [28 29]]\n"
     ]
    }
   ],
   "source": [
    "# Plot outputs\n",
    "import matplotlib.pyplot as plt\n",
    "import sklearn.metrics\n",
    "from sklearn import preprocessing, metrics\n",
    "from sklearn.metrics import confusion_matrix, classification_report, roc_curve, roc_auc_score\n",
    "\n",
    "%matplotlib inline\n",
    "\n",
    "# calculate the fpr and tpr for all thresholds of the classification\n",
    "probs = model.predict_proba(X_test)\n",
    "preds = probs[:,1]\n",
    "fpr, tpr, threshold = metrics.roc_curve(y_test, preds)\n",
    "\n",
    "roc_auc = roc_auc_score(y_test, y_pred)\n",
    "\n",
    "print(\"Accuracy: {}\".format(lr_acc))\n",
    "print(\"AUC: {}\".format(roc_auc))\n",
    "\n",
    "\n",
    "# Plot the ROC curve\n",
    "import matplotlib.pyplot as plt\n",
    "plt.title('Receiver Operating Characteristic')\n",
    "plt.plot(fpr, tpr, 'b', label = 'AUC = %0.2f' % roc_auc)\n",
    "plt.legend(loc = 'lower right')\n",
    "plt.plot([0, 1], [0, 1],'r--')\n",
    "plt.xlim([0, 1])\n",
    "plt.ylim([0, 1])\n",
    "plt.ylabel('True Positive Rate')\n",
    "plt.xlabel('False Positive Rate')\n",
    "plt.show()\n",
    "\n",
    "conf_mat = confusion_matrix(y_true=y_test, y_pred=y_pred)\n",
    "print('Confusion matrix:\\n', conf_mat)"
   ]
  },
  {
   "cell_type": "markdown",
   "metadata": {},
   "source": [
    "#### Calculate the accuracy metric of the observations in the test set."
   ]
  },
  {
   "cell_type": "code",
   "execution_count": 6,
   "metadata": {},
   "outputs": [
    {
     "name": "stdout",
     "output_type": "stream",
     "text": [
      "0.2597402597402597\n"
     ]
    }
   ],
   "source": [
    "#TODO\n",
    "from sklearn.metrics import mean_squared_error\n",
    "import numpy as np\n",
    "\n",
    "mean_sq_error =  mean_squared_error(y_test, y_pred)\n",
    "print(mean_sq_error)\n"
   ]
  },
  {
   "cell_type": "markdown",
   "metadata": {},
   "source": [
    "## Cross-Validation"
   ]
  },
  {
   "cell_type": "markdown",
   "metadata": {},
   "source": [
    "## *k-*Fold Cross-Validation"
   ]
  },
  {
   "cell_type": "markdown",
   "metadata": {},
   "source": [
    "In few sentences, explain how K-fold procedure work."
   ]
  },
  {
   "cell_type": "markdown",
   "metadata": {},
   "source": []
  },
  {
   "cell_type": "markdown",
   "metadata": {},
   "source": [
    "Perform linear regression using *k-*fold cross validation, try different values of k and print out the mean accuracy obtained."
   ]
  },
  {
   "cell_type": "markdown",
   "metadata": {},
   "source": [
    "# Cross Validation:\n",
    "\n",
    "No need of a validation subset \n",
    "\n",
    "Randomly partition the dataset into k equal\n",
    "size subsamples (“folds”). Each time use one fold for evaluation and use the other folds for training\n"
   ]
  },
  {
   "cell_type": "code",
   "execution_count": 7,
   "metadata": {},
   "outputs": [
    {
     "name": "stdout",
     "output_type": "stream",
     "text": [
      "0.7943722943722945 0.7695899813394877\n",
      "0.787012987012987 0.768270944741533\n",
      "0.7805194805194804 0.7669685577580314\n",
      "0.7757575757575758 0.772201106083459\n",
      "0.7775974025974025 0.7658232118758435\n",
      "0.7771428571428572 0.7659354838709678\n",
      "0.7744588744588746 0.7674615384615383\n"
     ]
    }
   ],
   "source": [
    "from sklearn.model_selection import cross_val_score\n",
    "from sklearn.model_selection import ShuffleSplit\n",
    "\n",
    "k_fold = [3, 5, 10, 15, 20, 25, 30]\n",
    "for k in k_fold:\n",
    "    cv = ShuffleSplit(n_splits=k, test_size=0.2, random_state=0)\n",
    "    scores_Shuffle = cross_val_score(model, X, y, cv=cv)\n",
    "    scores_Simple = cross_val_score(model, X, y, cv=k)\n",
    "    score_print= [scores_Shuffle.mean(), scores_Simple.mean()]\n",
    "    print('{} {}'.format(*score_print))"
   ]
  },
  {
   "cell_type": "markdown",
   "metadata": {},
   "source": [
    "## The Bootstrap"
   ]
  },
  {
   "cell_type": "markdown",
   "metadata": {
    "collapsed": true
   },
   "source": [
    "Print the target class distribution (You can see that there's almost twice as much 0s than 1s)\n"
   ]
  },
  {
   "cell_type": "code",
   "execution_count": 8,
   "metadata": {},
   "outputs": [
    {
     "name": "stdout",
     "output_type": "stream",
     "text": [
      "there is 268 1 in the target class\n",
      "there is 500 0 in the target class\n"
     ]
    }
   ],
   "source": [
    "from collections import defaultdict\n",
    "dic = defaultdict(int)\n",
    "for val in y:\n",
    "    dic[val] += 1\n",
    "\n",
    "for key, val in dic.items():\n",
    "    print('there is {} {} in the target class'.format(val, key))\n"
   ]
  },
  {
   "cell_type": "markdown",
   "metadata": {},
   "source": [
    "Let's perform bootstrapping to up-sample the minority class\n",
    "\n",
    "1. First, we'll import the resampling module from Scikit-Learn\n",
    "2. Next, we'll resample the minority class with replacement, setting the number of samples to match that of the majority class\n",
    "3. Finally, we'll combine the up-sampled minority class DataFrame with the original majority class DataFrame."
   ]
  },
  {
   "cell_type": "code",
   "execution_count": 9,
   "metadata": {},
   "outputs": [
    {
     "name": "stdout",
     "output_type": "stream",
     "text": [
      "232 minority samples need to be generated\n",
      "initial size of the minority class 268 final size after upsampling 500\n",
      "True\n",
      "The dataset is now balanced\n"
     ]
    }
   ],
   "source": [
    "from sklearn.utils import resample\n",
    "# Separate majority and minority classes\n",
    "majority_class = data[data['Outcome'] == 0]\n",
    "minority_class = data[data['Outcome'] == 1]\n",
    "#minority_class.head()\n",
    "\n",
    "nb_sample = len(majority_class) - len(minority_class)\n",
    "print('{} minority samples need to be generated'.format(nb_sample))\n",
    "\n",
    "\n",
    "\n",
    "# Upsample minority class\n",
    "minority_upsampled = resample(minority_class, \n",
    "                                 replace=True,     # sample with replacement\n",
    "                                 n_samples=len(majority_class), random_state=42)   # reproducible results\n",
    "\n",
    "print('initial size of the minority class {} final size after upsampling {}'.format(len(minority_class),len(minority_upsampled)))\n",
    "\n",
    "\n",
    "\n",
    " \n",
    "# Combine majority class with upsampled minority class\n",
    "data_upsampled = pd.concat([majority_class, minority_upsampled])\n",
    "\n",
    "majority_class = data_upsampled[data_upsampled['Outcome'] == 0]\n",
    "minority_class = data_upsampled[data_upsampled['Outcome'] == 1]\n",
    "\n",
    "print(len(majority_class) == len(minority_class))\n",
    "print(\"The dataset is now balanced\")\n",
    "\n",
    "\n",
    "# Display new class counts \n",
    "#TODO: the new DataFrame should now have more observations than the original, and the ratio of the two classes is now 1:1"
   ]
  },
  {
   "cell_type": "markdown",
   "metadata": {},
   "source": [
    "Let's train another model using Logistic Regression, this time on the balanced dataset"
   ]
  },
  {
   "cell_type": "code",
   "execution_count": 10,
   "metadata": {},
   "outputs": [
    {
     "name": "stdout",
     "output_type": "stream",
     "text": [
      "0.68\n",
      "0.68\n",
      "Accuracy: 0.68\n",
      "AUC: 0.6782852564102564\n"
     ]
    },
    {
     "data": {
      "image/png": "[encoded data removed]",
      "text/plain": [
       "<Figure size 432x288 with 1 Axes>"
      ]
     },
     "metadata": {
      "needs_background": "light"
     },
     "output_type": "display_data"
    },
    {
     "name": "stdout",
     "output_type": "stream",
     "text": [
      "Confusion matrix:\n",
      " [[75 29]\n",
      " [35 61]]\n",
      "0.32\n"
     ]
    }
   ],
   "source": [
    "\n",
    "# How's our accuracy? Has it improved? Comment\n",
    "#TODO\n",
    "\n",
    "from sklearn.model_selection import train_test_split\n",
    "\n",
    "X = data_upsampled.iloc[:, :-1].values  \n",
    "y = data_upsampled.iloc[:, -1].values \n",
    "\n",
    "X_train, X_test, y_train, y_test = train_test_split(X, y, test_size=0.2)\n",
    "\n",
    "model = LogisticRegression(solver='liblinear', max_iter=200)\n",
    "fitting = model.fit(X_train, y_train)\n",
    "score = fitting.score(X_test, y_test)\n",
    "print(score)\n",
    "\n",
    "y_pred = model.predict(X_test)\n",
    "confidence_score = model.decision_function(X_test)\n",
    "\n",
    "lr_acc = accuracy_score(y_test, y_pred)\n",
    "\n",
    "print(lr_acc)\n",
    "\n",
    "%matplotlib inline\n",
    "\n",
    "# calculate the fpr and tpr for all thresholds of the classification\n",
    "probs = model.predict_proba(X_test)\n",
    "preds = probs[:,1]\n",
    "fpr, tpr, threshold = metrics.roc_curve(y_test, preds)\n",
    "\n",
    "roc_auc = roc_auc_score(y_test, y_pred)\n",
    "\n",
    "print(\"Accuracy: {}\".format(lr_acc))\n",
    "print(\"AUC: {}\".format(roc_auc))\n",
    "\n",
    "\n",
    "# Plot the ROC curve\n",
    "import matplotlib.pyplot as plt\n",
    "plt.title('Receiver Operating Characteristic')\n",
    "plt.plot(fpr, tpr, 'b', label = 'AUC = %0.2f' % roc_auc)\n",
    "plt.legend(loc = 'lower right')\n",
    "plt.plot([0, 1], [0, 1],'r--')\n",
    "plt.xlim([0, 1])\n",
    "plt.ylim([0, 1])\n",
    "plt.ylabel('True Positive Rate')\n",
    "plt.xlabel('False Positive Rate')\n",
    "plt.show()\n",
    "\n",
    "conf_mat = confusion_matrix(y_true=y_test, y_pred=y_pred)\n",
    "print('Confusion matrix:\\n', conf_mat)\n",
    "\n",
    "mean_sq_error =  mean_squared_error(y_test, y_pred)\n",
    "print(mean_sq_error)"
   ]
  },
  {
   "cell_type": "markdown",
   "metadata": {},
   "source": [
    "# Conclusion\n",
    "\n",
    "The model is a bit more precise after bootstrating \n",
    "compare to reality (and to the titanic project) this dataset was of excellent quality. \n"
   ]
  }
 ],
 "metadata": {
  "celltoolbar": "Raw Cell Format",
  "kernelspec": {
   "display_name": "Python 3",
   "language": "python",
   "name": "python3"
  },
  "language_info": {
   "codemirror_mode": {
    "name": "ipython",
    "version": 3
   },
   "file_extension": ".py",
   "mimetype": "text/x-python",
   "name": "python",
   "nbconvert_exporter": "python",
   "pygments_lexer": "ipython3",
   "version": "3.7.0"
  }
 },
 "nbformat": 4,
 "nbformat_minor": 2
}
