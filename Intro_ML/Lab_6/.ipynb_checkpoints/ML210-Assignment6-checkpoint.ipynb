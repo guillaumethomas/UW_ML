{
 "cells": [
  {
   "cell_type": "markdown",
   "metadata": {},
   "source": [
    "# ML210-Assignment 6: Resampling Methods"
   ]
  },
  {
   "cell_type": "markdown",
   "metadata": {
    "collapsed": true
   },
   "source": [
    "Dataset needed:\n",
    "UCI Airfoil Self-Noise Data Set  (https://archive.ics.uci.edu/ml/datasets/diabetes)\n"
   ]
  },
  {
   "cell_type": "code",
   "execution_count": 2,
   "metadata": {},
   "outputs": [
    {
     "name": "stdout",
     "output_type": "stream",
     "text": [
      "<class 'pandas.core.frame.DataFrame'>\n",
      "RangeIndex: 768 entries, 0 to 767\n",
      "Data columns (total 9 columns):\n",
      "Pregnancies                 768 non-null int64\n",
      "Glucose                     768 non-null int64\n",
      "BloodPressure               768 non-null int64\n",
      "SkinThickness               768 non-null int64\n",
      "Insulin                     768 non-null int64\n",
      "BMI                         768 non-null float64\n",
      "DiabetesPedigreeFunction    768 non-null float64\n",
      "Age                         768 non-null int64\n",
      "Outcome                     768 non-null int64\n",
      "dtypes: float64(2), int64(7)\n",
      "memory usage: 54.1 KB\n",
      "None\n"
     ]
    },
    {
     "data": {
      "text/html": [
       "<div>\n",
       "<style scoped>\n",
       "    .dataframe tbody tr th:only-of-type {\n",
       "        vertical-align: middle;\n",
       "    }\n",
       "\n",
       "    .dataframe tbody tr th {\n",
       "        vertical-align: top;\n",
       "    }\n",
       "\n",
       "    .dataframe thead th {\n",
       "        text-align: right;\n",
       "    }\n",
       "</style>\n",
       "<table border=\"1\" class=\"dataframe\">\n",
       "  <thead>\n",
       "    <tr style=\"text-align: right;\">\n",
       "      <th></th>\n",
       "      <th>Pregnancies</th>\n",
       "      <th>Glucose</th>\n",
       "      <th>BloodPressure</th>\n",
       "      <th>SkinThickness</th>\n",
       "      <th>Insulin</th>\n",
       "      <th>BMI</th>\n",
       "      <th>DiabetesPedigreeFunction</th>\n",
       "      <th>Age</th>\n",
       "      <th>Outcome</th>\n",
       "    </tr>\n",
       "  </thead>\n",
       "  <tbody>\n",
       "    <tr>\n",
       "      <th>0</th>\n",
       "      <td>6</td>\n",
       "      <td>148</td>\n",
       "      <td>72</td>\n",
       "      <td>35</td>\n",
       "      <td>0</td>\n",
       "      <td>33.6</td>\n",
       "      <td>0.627</td>\n",
       "      <td>50</td>\n",
       "      <td>1</td>\n",
       "    </tr>\n",
       "    <tr>\n",
       "      <th>1</th>\n",
       "      <td>1</td>\n",
       "      <td>85</td>\n",
       "      <td>66</td>\n",
       "      <td>29</td>\n",
       "      <td>0</td>\n",
       "      <td>26.6</td>\n",
       "      <td>0.351</td>\n",
       "      <td>31</td>\n",
       "      <td>0</td>\n",
       "    </tr>\n",
       "    <tr>\n",
       "      <th>2</th>\n",
       "      <td>8</td>\n",
       "      <td>183</td>\n",
       "      <td>64</td>\n",
       "      <td>0</td>\n",
       "      <td>0</td>\n",
       "      <td>23.3</td>\n",
       "      <td>0.672</td>\n",
       "      <td>32</td>\n",
       "      <td>1</td>\n",
       "    </tr>\n",
       "    <tr>\n",
       "      <th>3</th>\n",
       "      <td>1</td>\n",
       "      <td>89</td>\n",
       "      <td>66</td>\n",
       "      <td>23</td>\n",
       "      <td>94</td>\n",
       "      <td>28.1</td>\n",
       "      <td>0.167</td>\n",
       "      <td>21</td>\n",
       "      <td>0</td>\n",
       "    </tr>\n",
       "    <tr>\n",
       "      <th>4</th>\n",
       "      <td>0</td>\n",
       "      <td>137</td>\n",
       "      <td>40</td>\n",
       "      <td>35</td>\n",
       "      <td>168</td>\n",
       "      <td>43.1</td>\n",
       "      <td>2.288</td>\n",
       "      <td>33</td>\n",
       "      <td>1</td>\n",
       "    </tr>\n",
       "  </tbody>\n",
       "</table>\n",
       "</div>"
      ],
      "text/plain": [
       "   Pregnancies  Glucose  BloodPressure  SkinThickness  Insulin   BMI  \\\n",
       "0            6      148             72             35        0  33.6   \n",
       "1            1       85             66             29        0  26.6   \n",
       "2            8      183             64              0        0  23.3   \n",
       "3            1       89             66             23       94  28.1   \n",
       "4            0      137             40             35      168  43.1   \n",
       "\n",
       "   DiabetesPedigreeFunction  Age  Outcome  \n",
       "0                     0.627   50        1  \n",
       "1                     0.351   31        0  \n",
       "2                     0.672   32        1  \n",
       "3                     0.167   21        0  \n",
       "4                     2.288   33        1  "
      ]
     },
     "execution_count": 2,
     "metadata": {},
     "output_type": "execute_result"
    }
   ],
   "source": [
    "import pandas as pd\n",
    "from sklearn.model_selection import train_test_split\n",
    "\n",
    "data = pd.read_csv('diabetes.csv')\n",
    "print(data.info())\n",
    "data.head()"
   ]
  },
  {
   "cell_type": "code",
   "execution_count": null,
   "metadata": {
    "collapsed": true
   },
   "outputs": [],
   "source": []
  },
  {
   "cell_type": "markdown",
   "metadata": {},
   "source": [
    "#### Make an 80/20 train/test split."
   ]
  },
  {
   "cell_type": "code",
   "execution_count": 3,
   "metadata": {
    "collapsed": true
   },
   "outputs": [],
   "source": [
    "from sklearn.model_selection import train_test_split\n",
    "\n",
    "X = data.iloc[:, :-1].values  \n",
    "y = data.iloc[:, -1].values \n",
    "\n",
    "X_train, X_test, y_train, y_test = train_test_split(X, y, test_size=0.2)"
   ]
  },
  {
   "cell_type": "markdown",
   "metadata": {},
   "source": [
    "#### Fit a logistic regression model on the training data."
   ]
  },
  {
   "cell_type": "code",
   "execution_count": 4,
   "metadata": {},
   "outputs": [
    {
     "name": "stdout",
     "output_type": "stream",
     "text": [
      "0.7857142857142857\n"
     ]
    }
   ],
   "source": [
    "from sklearn.linear_model import LogisticRegression\n",
    "# solver='liblinear'\n",
    "# solver='lbfgs\n",
    "model = LogisticRegression(solver='liblinear', max_iter=200)\n",
    "fitting = model.fit(X_train, y_train)\n",
    "score = fitting.score(X_test, y_test)\n",
    "print(score)\n",
    "#TODO"
   ]
  },
  {
   "cell_type": "markdown",
   "metadata": {},
   "source": [
    "#### Predict the test data."
   ]
  },
  {
   "cell_type": "code",
   "execution_count": 5,
   "metadata": {},
   "outputs": [
    {
     "name": "stdout",
     "output_type": "stream",
     "text": [
      "[-1.93681878 -0.88233805 -0.76283057  0.28925499 -0.97767806 -1.5158018\n",
      "  1.4789264  -2.44595313 -2.01632335  1.20883225 -1.39678365 -1.98298949\n",
      " -1.44543733  0.96537489 -1.25586165 -2.22068864 -0.73265575 -2.30269835\n",
      "  0.73723511  1.05475945 -2.04952949 -2.50905613  0.61401191  2.09183768\n",
      " -0.56605452 -1.47681262  0.20737399 -0.49699305 -1.30797499 -1.60518844\n",
      " -2.38993445  0.11305109 -1.44904823 -1.81655855  2.13806603 -0.97752555\n",
      " -1.74489408 -1.50146752 -0.0629969  -0.53192194 -4.48166032 -0.10168093\n",
      " -2.14354412  0.15295357 -0.22068672 -1.97783974 -2.73515624 -2.19938578\n",
      " -1.91624941 -0.87250355  0.47510127 -1.52377036 -2.51302701 -1.57509964\n",
      "  1.81506781  0.18129514 -1.78088185 -0.59062522 -1.19628853 -1.50655712\n",
      "  0.74333978 -0.83783733 -0.14571889 -0.98404758  0.93828596 -1.76634779\n",
      " -0.62711314 -3.09705306 -2.69715057 -1.189029    0.05751112 -1.54432967\n",
      "  0.34812137 -1.58582141 -2.69746202 -1.0233204   0.14984714 -2.44448789\n",
      " -1.97360283  0.15167126 -2.23110104 -0.52960727 -0.69450851  0.18072028\n",
      " -1.48257132  0.22480472 -0.56667668 -3.27665725 -2.23148473  1.05597494\n",
      " -0.5101807  -2.05989953 -0.9135806   1.88299759 -0.16784482  0.92198527\n",
      " -1.91600454 -1.08205139 -1.11541918  0.79922199 -1.47789085 -0.69838341\n",
      "  0.5572666  -1.34228549 -1.42034771 -0.3785891   1.28276918 -0.91627137\n",
      "  0.30199144 -0.94840684 -1.23897949 -1.82025667 -1.49008018  1.31706791\n",
      " -1.82798098 -0.36220737 -1.21598675 -1.16116628 -0.67611323 -0.50431471\n",
      " -0.52941512  0.70715898  2.04809882 -1.27313699 -2.01178148 -1.1304094\n",
      "  1.54788299 -1.00763836  0.9023863  -1.31989173 -0.7298366   0.86136137\n",
      "  0.96004288  0.50599437 -0.77277897 -1.11480448 -2.26714811 -1.28635689\n",
      " -2.17530928 -1.92816216 -0.57418618  0.1635347  -0.72495472  0.66109693\n",
      " -0.08722691 -2.58267101 -1.0633527   0.13685107  0.37471929 -0.00499626\n",
      " -1.39438606  0.80803334 -1.80595323  1.16948304]\n",
      "0.7857142857142857\n"
     ]
    }
   ],
   "source": [
    "#y_pred = #TODO\n",
    "from sklearn.metrics import  accuracy_score\n",
    "\n",
    "y_pred = model.predict(X_test)\n",
    "confidence_score = model.decision_function(X_test)\n",
    "print(confidence_score)\n",
    "lr_acc = accuracy_score(y_test, y_pred)\n",
    "\n",
    "print(lr_acc)"
   ]
  },
  {
   "cell_type": "markdown",
   "metadata": {},
   "source": [
    "#### Plot the ROC curve and compute the AUC score"
   ]
  },
  {
   "cell_type": "code",
   "execution_count": 6,
   "metadata": {},
   "outputs": [
    {
     "name": "stdout",
     "output_type": "stream",
     "text": [
      "Accuracy: 0.7857142857142857\n",
      "AUC: 0.7492417484388939\n"
     ]
    },
    {
     "data": {
      "image/png": "[encoded data removed]",
      "text/plain": [
       "<matplotlib.figure.Figure at 0x7f8e1dad2d30>"
      ]
     },
     "metadata": {},
     "output_type": "display_data"
    },
    {
     "name": "stdout",
     "output_type": "stream",
     "text": [
      "Confusion matrix:\n",
      " [[86  9]\n",
      " [24 35]]\n"
     ]
    }
   ],
   "source": [
    "# Plot outputs\n",
    "import matplotlib.pyplot as plt\n",
    "import sklearn.metrics\n",
    "from sklearn import preprocessing, metrics\n",
    "from sklearn.metrics import confusion_matrix, classification_report, roc_curve, roc_auc_score\n",
    "\n",
    "%matplotlib inline\n",
    "\n",
    "# calculate the fpr and tpr for all thresholds of the classification\n",
    "probs = model.predict_proba(X_test)\n",
    "preds = probs[:,1]\n",
    "fpr, tpr, threshold = metrics.roc_curve(y_test, preds)\n",
    "\n",
    "roc_auc = roc_auc_score(y_test, y_pred)\n",
    "\n",
    "print(\"Accuracy: {}\".format(lr_acc))\n",
    "print(\"AUC: {}\".format(roc_auc))\n",
    "\n",
    "\n",
    "# Plot the ROC curve\n",
    "import matplotlib.pyplot as plt\n",
    "plt.title('Receiver Operating Characteristic')\n",
    "plt.plot(fpr, tpr, 'b', label = 'AUC = %0.2f' % roc_auc)\n",
    "plt.legend(loc = 'lower right')\n",
    "plt.plot([0, 1], [0, 1],'r--')\n",
    "plt.xlim([0, 1])\n",
    "plt.ylim([0, 1])\n",
    "plt.ylabel('True Positive Rate')\n",
    "plt.xlabel('False Positive Rate')\n",
    "plt.show()\n",
    "\n",
    "conf_mat = confusion_matrix(y_true=y_test, y_pred=y_pred)\n",
    "print('Confusion matrix:\\n', conf_mat)"
   ]
  },
  {
   "cell_type": "markdown",
   "metadata": {},
   "source": [
    "#### Calculate the accuracy metric of the observations in the test set."
   ]
  },
  {
   "cell_type": "code",
   "execution_count": 7,
   "metadata": {},
   "outputs": [
    {
     "name": "stdout",
     "output_type": "stream",
     "text": [
      "0.21428571428571427\n"
     ]
    }
   ],
   "source": [
    "#TODO\n",
    "from sklearn.metrics import mean_squared_error\n",
    "import numpy as np\n",
    "\n",
    "mean_sq_error =  mean_squared_error(y_test, y_pred)\n",
    "print(mean_sq_error)\n"
   ]
  },
  {
   "cell_type": "markdown",
   "metadata": {},
   "source": [
    "## Cross-Validation"
   ]
  },
  {
   "cell_type": "markdown",
   "metadata": {},
   "source": [
    "## *k-*Fold Cross-Validation"
   ]
  },
  {
   "cell_type": "markdown",
   "metadata": {},
   "source": [
    "In few sentences, explain how K-fold procedure work."
   ]
  },
  {
   "cell_type": "markdown",
   "metadata": {},
   "source": []
  },
  {
   "cell_type": "markdown",
   "metadata": {},
   "source": [
    "Perform linear regression using *k-*fold cross validation, try different values of k and print out the mean accuracy obtained."
   ]
  },
  {
   "cell_type": "markdown",
   "metadata": {},
   "source": [
    "# Cross Validation:\n",
    "\n",
    "No need of a validation subset \n",
    "\n",
    "Randomly partition the dataset into k equal\n",
    "size subsamples (“folds”). Each time use one fold for evaluation and use the other folds for training\n"
   ]
  },
  {
   "cell_type": "code",
   "execution_count": 8,
   "metadata": {},
   "outputs": [
    {
     "name": "stdout",
     "output_type": "stream",
     "text": [
      "0.7943722943722945 0.7695899813394877\n",
      "0.787012987012987 0.768270944741533\n",
      "0.7805194805194804 0.7669685577580314\n",
      "0.7757575757575758 0.772201106083459\n",
      "0.7775974025974025 0.7658232118758435\n",
      "0.7771428571428572 0.7659354838709678\n",
      "0.7746753246753249 0.7674615384615383\n"
     ]
    }
   ],
   "source": [
    "from sklearn.model_selection import cross_val_score\n",
    "from sklearn.model_selection import ShuffleSplit\n",
    "\n",
    "k_fold = [3, 5, 10, 15, 20, 25, 30]\n",
    "for k in k_fold:\n",
    "    cv = ShuffleSplit(n_splits=k, test_size=0.2, random_state=0)\n",
    "    scores_Shuffle = cross_val_score(model, X, y, cv=cv)\n",
    "    scores_Simple = cross_val_score(model, X, y, cv=k)\n",
    "    score_print= [scores_Shuffle.mean(), scores_Simple.mean()]\n",
    "    print('{} {}'.format(*score_print))"
   ]
  },
  {
   "cell_type": "markdown",
   "metadata": {},
   "source": [
    "## The Bootstrap"
   ]
  },
  {
   "cell_type": "markdown",
   "metadata": {
    "collapsed": true
   },
   "source": [
    "Print the target class distribution (You can see that there's almost twice as much 0s than 1s)\n"
   ]
  },
  {
   "cell_type": "code",
   "execution_count": 9,
   "metadata": {},
   "outputs": [
    {
     "name": "stdout",
     "output_type": "stream",
     "text": [
      "there is 500 0 in the target class\n",
      "there is 268 1 in the target class\n"
     ]
    }
   ],
   "source": [
    "from collections import defaultdict\n",
    "dic = defaultdict(int)\n",
    "for val in y:\n",
    "    dic[val] += 1\n",
    "\n",
    "for key, val in dic.items():\n",
    "    print('there is {} {} in the target class'.format(val, key))\n"
   ]
  },
  {
   "cell_type": "markdown",
   "metadata": {},
   "source": [
    "Let's perform bootstrapping to up-sample the minority class\n",
    "\n",
    "1. First, we'll import the resampling module from Scikit-Learn\n",
    "2. Next, we'll resample the minority class with replacement, setting the number of samples to match that of the majority class\n",
    "3. Finally, we'll combine the up-sampled minority class DataFrame with the original majority class DataFrame."
   ]
  },
  {
   "cell_type": "code",
   "execution_count": 10,
   "metadata": {},
   "outputs": [
    {
     "name": "stdout",
     "output_type": "stream",
     "text": [
      "232 minority samples need to be generated\n",
      "initial size of the minority class 268 final size after upsampling 500\n",
      "True\n",
      "The dataset is now balanced\n"
     ]
    }
   ],
   "source": [
    "from sklearn.utils import resample\n",
    "# Separate majority and minority classes\n",
    "majority_class = data[data['Outcome'] == 0]\n",
    "minority_class = data[data['Outcome'] == 1]\n",
    "#minority_class.head()\n",
    "\n",
    "nb_sample = len(majority_class) - len(minority_class)\n",
    "print('{} minority samples need to be generated'.format(nb_sample))\n",
    "\n",
    "\n",
    "\n",
    "# Upsample minority class\n",
    "minority_upsampled = resample(minority_class, \n",
    "                                 replace=True,     # sample with replacement\n",
    "                                 n_samples=len(majority_class), random_state=42)   # reproducible results\n",
    "\n",
    "print('initial size of the minority class {} final size after upsampling {}'.format(len(minority_class),len(minority_upsampled)))\n",
    "\n",
    "\n",
    "\n",
    " \n",
    "# Combine majority class with upsampled minority class\n",
    "data_upsampled = pd.concat([majority_class, minority_upsampled])\n",
    "\n",
    "majority_class = data_upsampled[data_upsampled['Outcome'] == 0]\n",
    "minority_class = data_upsampled[data_upsampled['Outcome'] == 1]\n",
    "\n",
    "print(len(majority_class) == len(minority_class))\n",
    "print(\"The dataset is now balanced\")\n",
    "\n",
    "\n",
    "# Display new class counts \n",
    "#TODO: the new DataFrame should now have more observations than the original, and the ratio of the two classes is now 1:1"
   ]
  },
  {
   "cell_type": "markdown",
   "metadata": {},
   "source": [
    "Let's train another model using Logistic Regression, this time on the balanced dataset"
   ]
  },
  {
   "cell_type": "code",
   "execution_count": 11,
   "metadata": {},
   "outputs": [
    {
     "name": "stdout",
     "output_type": "stream",
     "text": [
      "0.74\n",
      "0.74\n",
      "Accuracy: 0.74\n",
      "AUC: 0.7434343434343433\n"
     ]
    },
    {
     "data": {
      "image/png": "[encoded data removed]",
      "text/plain": [
       "<matplotlib.figure.Figure at 0x7f8e1dacb588>"
      ]
     },
     "metadata": {},
     "output_type": "display_data"
    },
    {
     "name": "stdout",
     "output_type": "stream",
     "text": [
      "Confusion matrix:\n",
      " [[78 32]\n",
      " [20 70]]\n",
      "0.26\n"
     ]
    }
   ],
   "source": [
    "\n",
    "# How's our accuracy? Has it improved? Comment\n",
    "#TODO\n",
    "\n",
    "from sklearn.model_selection import train_test_split\n",
    "\n",
    "X = data_upsampled.iloc[:, :-1].values  \n",
    "y = data_upsampled.iloc[:, -1].values \n",
    "\n",
    "X_train, X_test, y_train, y_test = train_test_split(X, y, test_size=0.2)\n",
    "\n",
    "model = LogisticRegression(solver='liblinear', max_iter=200)\n",
    "fitting = model.fit(X_train, y_train)\n",
    "score = fitting.score(X_test, y_test)\n",
    "print(score)\n",
    "\n",
    "y_pred = model.predict(X_test)\n",
    "confidence_score = model.decision_function(X_test)\n",
    "\n",
    "lr_acc = accuracy_score(y_test, y_pred)\n",
    "\n",
    "print(lr_acc)\n",
    "\n",
    "%matplotlib inline\n",
    "\n",
    "# calculate the fpr and tpr for all thresholds of the classification\n",
    "probs = model.predict_proba(X_test)\n",
    "preds = probs[:,1]\n",
    "fpr, tpr, threshold = metrics.roc_curve(y_test, preds)\n",
    "\n",
    "roc_auc = roc_auc_score(y_test, y_pred)\n",
    "\n",
    "print(\"Accuracy: {}\".format(lr_acc))\n",
    "print(\"AUC: {}\".format(roc_auc))\n",
    "\n",
    "\n",
    "# Plot the ROC curve\n",
    "import matplotlib.pyplot as plt\n",
    "plt.title('Receiver Operating Characteristic')\n",
    "plt.plot(fpr, tpr, 'b', label = 'AUC = %0.2f' % roc_auc)\n",
    "plt.legend(loc = 'lower right')\n",
    "plt.plot([0, 1], [0, 1],'r--')\n",
    "plt.xlim([0, 1])\n",
    "plt.ylim([0, 1])\n",
    "plt.ylabel('True Positive Rate')\n",
    "plt.xlabel('False Positive Rate')\n",
    "plt.show()\n",
    "\n",
    "conf_mat = confusion_matrix(y_true=y_test, y_pred=y_pred)\n",
    "print('Confusion matrix:\\n', conf_mat)\n",
    "\n",
    "mean_sq_error =  mean_squared_error(y_test, y_pred)\n",
    "print(mean_sq_error)"
   ]
  },
  {
   "cell_type": "markdown",
   "metadata": {},
   "source": [
    "# Conclusion\n",
    "\n",
    "The model is a bit more precise after bootstrating \n",
    "compare to reality (and to the titanic project) this dataset was of excellent quality. \n"
   ]
  }
 ],
 "metadata": {
  "celltoolbar": "Raw Cell Format",
  "kernelspec": {
   "display_name": "Python 3",
   "language": "python",
   "name": "python3"
  },
  "language_info": {
   "codemirror_mode": {
    "name": "ipython",
    "version": 3
   },
   "file_extension": ".py",
   "mimetype": "text/x-python",
   "name": "python",
   "nbconvert_exporter": "python",
   "pygments_lexer": "ipython3",
   "version": "3.7.0"
  }
 },
 "nbformat": 4,
 "nbformat_minor": 2
}
